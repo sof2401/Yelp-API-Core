{
 "cells": [
  {
   "cell_type": "code",
   "execution_count": 1,
   "id": "77485677-34f5-45c8-96ac-4d69a9e01c08",
   "metadata": {},
   "outputs": [
    {
     "data": {
      "text/plain": [
       "dict_keys(['client-id', 'api-key'])"
      ]
     },
     "execution_count": 1,
     "metadata": {},
     "output_type": "execute_result"
    }
   ],
   "source": [
    "import numpy as np\n",
    "import pandas as pd\n",
    "import matplotlib.pyplot as plt\n",
    "import seaborn as sns\n",
    "\n",
    "import os, json, math, time\n",
    "from yelpapi import YelpAPI\n",
    "from tqdm.notebook import tqdm_notebook\n",
    "\n",
    "\n",
    "with open('/Users/sofiawang/.secret/yelp_api.json') as f:\n",
    "    login = json.load(f)\n",
    "login.keys()"
   ]
  },
  {
   "cell_type": "code",
   "execution_count": 2,
   "id": "aaad03cd-cce0-457a-aa13-ca42d625cc60",
   "metadata": {},
   "outputs": [
    {
     "name": "stdout",
     "output_type": "stream",
     "text": [
      "Requirement already satisfied: tqdm in /opt/homebrew/Caskroom/miniforge/base/envs/dojo-env/lib/python3.10/site-packages (4.65.0)\n"
     ]
    }
   ],
   "source": [
    "!pip install tqdm"
   ]
  },
  {
   "cell_type": "code",
   "execution_count": 3,
   "id": "9438b076-36c8-43f0-9370-c182935ae06e",
   "metadata": {},
   "outputs": [],
   "source": [
    "with open('/Users/sofiawang/.secret/yelp_api.json') as f:   #use your path here!\n",
    "    login = json.load(f)\n",
    "\n",
    "yelp_api = YelpAPI(login['api-key'], timeout_s=5.0)"
   ]
  },
  {
   "cell_type": "code",
   "execution_count": 4,
   "id": "0d124196-5733-4e22-9800-22cbae6eda76",
   "metadata": {},
   "outputs": [
    {
     "name": "stdout",
     "output_type": "stream",
     "text": [
      "<class 'dict'>\n"
     ]
    },
    {
     "data": {
      "text/plain": [
       "dict_keys(['businesses', 'total', 'region'])"
      ]
     },
     "execution_count": 4,
     "metadata": {},
     "output_type": "execute_result"
    }
   ],
   "source": [
    "search_results = yelp_api.search_query(location='SF, CA',\n",
    "                                       term='Thai')\n",
    "print(type(search_results))\n",
    "search_results.keys()"
   ]
  },
  {
   "cell_type": "code",
   "execution_count": 5,
   "id": "69fd6bdf-c854-44e0-8e15-e6ab91996c3c",
   "metadata": {},
   "outputs": [],
   "source": [
    "LOCATION = 'SF,CA'\n",
    "TERM = 'Thai'"
   ]
  },
  {
   "cell_type": "code",
   "execution_count": 6,
   "id": "3587820a-b3e0-4f40-b4d1-0c8d4e4b4312",
   "metadata": {},
   "outputs": [
    {
     "data": {
      "text/plain": [
       "'Data/results_in_progress_SF_thai.json'"
      ]
     },
     "execution_count": 6,
     "metadata": {},
     "output_type": "execute_result"
    }
   ],
   "source": [
    "JSON_FILE = \"Data/results_in_progress_SF_thai.json\"\n",
    "JSON_FILE"
   ]
  },
  {
   "cell_type": "code",
   "execution_count": 7,
   "id": "e96ef735-161d-4c30-8a82-0024d11663f0",
   "metadata": {},
   "outputs": [
    {
     "name": "stdout",
     "output_type": "stream",
     "text": [
      "[i] Data/results_in_progress_SF_thai.json already exists.\n"
     ]
    }
   ],
   "source": [
    "## Check if JSON_FILE exists\n",
    "file_exists = os.path.isfile(JSON_FILE)\n",
    "## If it does not exist: \n",
    "if file_exists == False:\n",
    "    \n",
    "    ## CREATE ANY NEEDED FOLDERS\n",
    "    # Get the Folder Name only\n",
    "    folder = os.path.dirname(JSON_FILE)\n",
    "    ## If JSON_FILE included a folder:\n",
    "    if len(folder)>0:\n",
    "        # create the folder\n",
    "        os.makedirs(folder,exist_ok=True)\n",
    "        \n",
    "        \n",
    "    ## INFORM USER AND SAVE EMPTY LIST\n",
    "    print(f'[i] {JSON_FILE} not found. Saving empty list to file.')\n",
    "    \n",
    "    \n",
    "    # save an empty list\n",
    "    with open(JSON_FILE,'w') as f:\n",
    "        json.dump([],f)  \n",
    "# If it exists, inform user\n",
    "else:\n",
    "    print(f\"[i] {JSON_FILE} already exists.\")"
   ]
  },
  {
   "cell_type": "code",
   "execution_count": 8,
   "id": "3d3a0232-676d-4a68-b63e-01ed0e8eaccf",
   "metadata": {},
   "outputs": [
    {
     "name": "stdout",
     "output_type": "stream",
     "text": [
      "- 0 previous results found.\n"
     ]
    }
   ],
   "source": [
    "with open(JSON_FILE,'r') as f:\n",
    "    previous_results = json.load(f)\n",
    "    \n",
    "n_results = len(previous_results)\n",
    "print(f'- {n_results} previous results found.')"
   ]
  },
  {
   "cell_type": "code",
   "execution_count": 9,
   "id": "7cd84396-7eba-4f8f-8ddd-f0ed2e3ab994",
   "metadata": {},
   "outputs": [
    {
     "data": {
      "text/plain": [
       "dict_keys(['businesses', 'total', 'region'])"
      ]
     },
     "execution_count": 9,
     "metadata": {},
     "output_type": "execute_result"
    }
   ],
   "source": [
    "results = yelp_api.search_query(location=LOCATION,\n",
    "                                term=TERM,\n",
    "                               offset=n_results)\n",
    "results.keys()"
   ]
  },
  {
   "cell_type": "code",
   "execution_count": 10,
   "id": "50accab8-8293-4c91-a3aa-3305a0121627",
   "metadata": {},
   "outputs": [
    {
     "data": {
      "text/plain": [
       "1100"
      ]
     },
     "execution_count": 10,
     "metadata": {},
     "output_type": "execute_result"
    }
   ],
   "source": [
    "total_results= results['total']\n",
    "total_results"
   ]
  },
  {
   "cell_type": "code",
   "execution_count": 11,
   "id": "1ff7997c-c204-4cab-b3fa-a62bb520108a",
   "metadata": {},
   "outputs": [
    {
     "data": {
      "text/html": [
       "<div>\n",
       "<style scoped>\n",
       "    .dataframe tbody tr th:only-of-type {\n",
       "        vertical-align: middle;\n",
       "    }\n",
       "\n",
       "    .dataframe tbody tr th {\n",
       "        vertical-align: top;\n",
       "    }\n",
       "\n",
       "    .dataframe thead th {\n",
       "        text-align: right;\n",
       "    }\n",
       "</style>\n",
       "<table border=\"1\" class=\"dataframe\">\n",
       "  <thead>\n",
       "    <tr style=\"text-align: right;\">\n",
       "      <th></th>\n",
       "      <th>id</th>\n",
       "      <th>alias</th>\n",
       "      <th>name</th>\n",
       "      <th>image_url</th>\n",
       "      <th>is_closed</th>\n",
       "      <th>url</th>\n",
       "      <th>review_count</th>\n",
       "      <th>categories</th>\n",
       "      <th>rating</th>\n",
       "      <th>coordinates</th>\n",
       "      <th>transactions</th>\n",
       "      <th>price</th>\n",
       "      <th>location</th>\n",
       "      <th>phone</th>\n",
       "      <th>display_phone</th>\n",
       "      <th>distance</th>\n",
       "    </tr>\n",
       "  </thead>\n",
       "  <tbody>\n",
       "    <tr>\n",
       "      <th>0</th>\n",
       "      <td>8kck3-K4zYKTJbJko0JlXQ</td>\n",
       "      <td>farmhouse-kitchen-thai-cuisine-san-francisco</td>\n",
       "      <td>Farmhouse Kitchen Thai Cuisine</td>\n",
       "      <td>https://s3-media4.fl.yelpcdn.com/bphoto/kUlEaP...</td>\n",
       "      <td>False</td>\n",
       "      <td>https://www.yelp.com/biz/farmhouse-kitchen-tha...</td>\n",
       "      <td>3692</td>\n",
       "      <td>[{'alias': 'thai', 'title': 'Thai'}, {'alias':...</td>\n",
       "      <td>4.0</td>\n",
       "      <td>{'latitude': 37.760192883932795, 'longitude': ...</td>\n",
       "      <td>[pickup, delivery, restaurant_reservation]</td>\n",
       "      <td>$$</td>\n",
       "      <td>{'address1': '710 Florida St', 'address2': '',...</td>\n",
       "      <td>+14158142920</td>\n",
       "      <td>(415) 814-2920</td>\n",
       "      <td>2201.588556</td>\n",
       "    </tr>\n",
       "    <tr>\n",
       "      <th>1</th>\n",
       "      <td>tZmiZw49SNRVzF6h1Jfx9g</td>\n",
       "      <td>ben-thai-cafe-san-francisco</td>\n",
       "      <td>Ben Thai Cafe</td>\n",
       "      <td>https://s3-media1.fl.yelpcdn.com/bphoto/UVXRkn...</td>\n",
       "      <td>False</td>\n",
       "      <td>https://www.yelp.com/biz/ben-thai-cafe-san-fra...</td>\n",
       "      <td>980</td>\n",
       "      <td>[{'alias': 'thai', 'title': 'Thai'}, {'alias':...</td>\n",
       "      <td>4.5</td>\n",
       "      <td>{'latitude': 37.78924, 'longitude': -122.42065}</td>\n",
       "      <td>[pickup, delivery, restaurant_reservation]</td>\n",
       "      <td>$$</td>\n",
       "      <td>{'address1': '1331 Polk St', 'address2': None,...</td>\n",
       "      <td>+14157712562</td>\n",
       "      <td>(415) 771-2562</td>\n",
       "      <td>3445.440156</td>\n",
       "    </tr>\n",
       "  </tbody>\n",
       "</table>\n",
       "</div>"
      ],
      "text/plain": [
       "                       id                                         alias  \\\n",
       "0  8kck3-K4zYKTJbJko0JlXQ  farmhouse-kitchen-thai-cuisine-san-francisco   \n",
       "1  tZmiZw49SNRVzF6h1Jfx9g                   ben-thai-cafe-san-francisco   \n",
       "\n",
       "                             name  \\\n",
       "0  Farmhouse Kitchen Thai Cuisine   \n",
       "1                   Ben Thai Cafe   \n",
       "\n",
       "                                           image_url  is_closed  \\\n",
       "0  https://s3-media4.fl.yelpcdn.com/bphoto/kUlEaP...      False   \n",
       "1  https://s3-media1.fl.yelpcdn.com/bphoto/UVXRkn...      False   \n",
       "\n",
       "                                                 url  review_count  \\\n",
       "0  https://www.yelp.com/biz/farmhouse-kitchen-tha...          3692   \n",
       "1  https://www.yelp.com/biz/ben-thai-cafe-san-fra...           980   \n",
       "\n",
       "                                          categories  rating  \\\n",
       "0  [{'alias': 'thai', 'title': 'Thai'}, {'alias':...     4.0   \n",
       "1  [{'alias': 'thai', 'title': 'Thai'}, {'alias':...     4.5   \n",
       "\n",
       "                                         coordinates  \\\n",
       "0  {'latitude': 37.760192883932795, 'longitude': ...   \n",
       "1    {'latitude': 37.78924, 'longitude': -122.42065}   \n",
       "\n",
       "                                 transactions price  \\\n",
       "0  [pickup, delivery, restaurant_reservation]    $$   \n",
       "1  [pickup, delivery, restaurant_reservation]    $$   \n",
       "\n",
       "                                            location         phone  \\\n",
       "0  {'address1': '710 Florida St', 'address2': '',...  +14158142920   \n",
       "1  {'address1': '1331 Polk St', 'address2': None,...  +14157712562   \n",
       "\n",
       "    display_phone     distance  \n",
       "0  (415) 814-2920  2201.588556  \n",
       "1  (415) 771-2562  3445.440156  "
      ]
     },
     "execution_count": 11,
     "metadata": {},
     "output_type": "execute_result"
    }
   ],
   "source": [
    "import pandas as pd\n",
    "\n",
    "biz = pd.DataFrame(search_results['businesses'])\n",
    "biz.head(2) "
   ]
  },
  {
   "cell_type": "code",
   "execution_count": 12,
   "id": "12098b3c-67b7-4e9b-bf34-951f671b050b",
   "metadata": {},
   "outputs": [
    {
     "data": {
      "text/plain": [
       "20"
      ]
     },
     "execution_count": 12,
     "metadata": {},
     "output_type": "execute_result"
    }
   ],
   "source": [
    "results_per_page = len(results['businesses'])\n",
    "results_per_page"
   ]
  },
  {
   "cell_type": "code",
   "execution_count": 13,
   "id": "0c5f1b28-6c97-4eed-8226-295e9d1c00f3",
   "metadata": {},
   "outputs": [
    {
     "data": {
      "text/plain": [
       "55"
      ]
     },
     "execution_count": 13,
     "metadata": {},
     "output_type": "execute_result"
    }
   ],
   "source": [
    "import time, math\n",
    "\n",
    "n_pages = math.ceil((results['total']-n_results)/ results_per_page)\n",
    "n_pages"
   ]
  },
  {
   "cell_type": "code",
   "execution_count": 14,
   "id": "8a6ac5d2-037a-4f92-8d4b-bee2a5cf0282",
   "metadata": {},
   "outputs": [],
   "source": [
    "previous_results.extend(results['businesses'])  \n",
    "with open(JSON_FILE,'w') as f:\n",
    "     json.dump(previous_results,f)"
   ]
  },
  {
   "cell_type": "code",
   "execution_count": 15,
   "id": "93615524-8b21-4445-8ff6-be9580914d72",
   "metadata": {},
   "outputs": [
    {
     "name": "stdout",
     "output_type": "stream",
     "text": [
      "Requirement already satisfied: tqdm in /opt/homebrew/Caskroom/miniforge/base/envs/dojo-env/lib/python3.10/site-packages (4.65.0)\n",
      "Note: you may need to restart the kernel to use updated packages.\n"
     ]
    }
   ],
   "source": [
    "pip install tqdm"
   ]
  },
  {
   "cell_type": "code",
   "execution_count": 17,
   "id": "63e2b12d-289a-4c1f-8796-4cdac541e942",
   "metadata": {},
   "outputs": [
    {
     "data": {
      "application/vnd.jupyter.widget-view+json": {
       "model_id": "ec6fba592ed146a58bb8146cb2e1315a",
       "version_major": 2,
       "version_minor": 0
      },
      "text/plain": [
       "  0%|          | 0/55 [00:00<?, ?it/s]"
      ]
     },
     "metadata": {},
     "output_type": "display_data"
    }
   ],
   "source": [
    "from tqdm.notebook import tqdm_notebook\n",
    "import time\n",
    "for i in tqdm_notebook(range(n_pages)):\n",
    "    # adds 200 ms pause\n",
    "    time.sleep(.2) "
   ]
  },
  {
   "cell_type": "code",
   "execution_count": 19,
   "id": "f30692cb-9b8f-4de2-a18d-87136260321b",
   "metadata": {},
   "outputs": [],
   "source": [
    "def create_json_file(JSON_FILE,  delete_if_exists=False):\n",
    "    \n",
    "    ## Check if JSON_FILE exists\n",
    "    file_exists = os.path.isfile(JSON_FILE)\n",
    "    \n",
    "    ## If it DOES exist:\n",
    "    if file_exists == True:\n",
    "        \n",
    "        ## Check if user wants to delete if exists\n",
    "        if delete_if_exists==True:\n",
    "            \n",
    "            print(f\"[!] {JSON_FILE} already exists. Deleting previous file...\")\n",
    "            ## delete file and confirm it no longer exits.\n",
    "            os.remove(JSON_FILE)\n",
    "            ## Recursive call to function after old file deleted\n",
    "            create_json_file(JSON_FILE,delete_if_exists=False)\n",
    "        else:\n",
    "            print(f\"[i] {JSON_FILE} already exists.\")            \n",
    "            \n",
    "            \n",
    "    ## If it does NOT exist:\n",
    "    else:\n",
    "        \n",
    "        ## INFORM USER AND SAVE EMPTY LIST\n",
    "        print(f\"[i] {JSON_FILE} not found. Saving empty list to new file.\")\n",
    "        \n",
    "        ## CREATE ANY NEEDED FOLDERS\n",
    "        # Get the Folder Name only\n",
    "        folder = os.path.dirname(JSON_FILE)\n",
    "        \n",
    "        ## If JSON_FILE included a folder:\n",
    "        if len(folder)>0:\n",
    "            # create the folder\n",
    "            os.makedirs(folder,exist_ok=True)\n",
    "        ## Save empty list to start the json file\n",
    "        with open(JSON_FILE,'w') as f:\n",
    "            json.dump([],f)  "
   ]
  },
  {
   "cell_type": "code",
   "execution_count": 20,
   "id": "041fd0b4-79c9-4a56-9434-cdb925951a24",
   "metadata": {},
   "outputs": [
    {
     "name": "stdout",
     "output_type": "stream",
     "text": [
      "[!] Data/results_in_progress_SF_thai.json already exists. Deleting previous file...\n",
      "[i] Data/results_in_progress_SF_thai.json not found. Saving empty list to new file.\n",
      "- 0 previous results found.\n"
     ]
    },
    {
     "data": {
      "text/plain": [
       "55"
      ]
     },
     "execution_count": 20,
     "metadata": {},
     "output_type": "execute_result"
    }
   ],
   "source": [
    "## Create a new empty json file (exist the previous if it exists)\n",
    "create_json_file(JSON_FILE, delete_if_exists=True)\n",
    "## Load previous results and use len of results for offset\n",
    "with open(JSON_FILE,'r') as f:\n",
    "    previous_results = json.load(f)\n",
    "    \n",
    "## set offset based on previous results\n",
    "n_results = len(previous_results)\n",
    "print(f'- {n_results} previous results found.')\n",
    "# use our yelp_api variable's search_query method to perform our API call\n",
    "results = yelp_api.search_query(location=LOCATION,\n",
    "                                term=TERM,\n",
    "                               offset=n_results)\n",
    "## How many results total?\n",
    "total_results = results['total']\n",
    "## How many did we get the details for?\n",
    "results_per_page = len(results['businesses'])\n",
    "# Use math.ceil to round up for the total number of pages of results.\n",
    "n_pages = math.ceil((results['total']-n_results)/ results_per_page)\n",
    "n_pages"
   ]
  },
  {
   "cell_type": "code",
   "execution_count": 21,
   "id": "68d6dec4-e0e1-45eb-9897-c136e6e6980d",
   "metadata": {},
   "outputs": [
    {
     "data": {
      "application/vnd.jupyter.widget-view+json": {
       "model_id": "d99dce5f284d438c94b1b563c68acc3a",
       "version_major": 2,
       "version_minor": 0
      },
      "text/plain": [
       "  0%|          | 0/55 [00:00<?, ?it/s]"
      ]
     },
     "metadata": {},
     "output_type": "display_data"
    },
    {
     "name": "stdout",
     "output_type": "stream",
     "text": [
      "Exceeded 1000 api calls. Stopping loop.\n"
     ]
    }
   ],
   "source": [
    "for i in tqdm_notebook( range(1,n_pages+1)):\n",
    "    \n",
    "    ## Read in results in progress file and check the length\n",
    "    with open(JSON_FILE, 'r') as f:\n",
    "        previous_results = json.load(f)\n",
    "    ## save number of results for to use as offset\n",
    "    n_results = len(previous_results)\n",
    "    \n",
    "    if (n_results + results_per_page) > 1000:\n",
    "        print('Exceeded 1000 api calls. Stopping loop.')\n",
    "        break\n",
    "    \n",
    "    ## use n_results as the OFFSET \n",
    "    results = yelp_api.search_query(location=LOCATION,\n",
    "                                    term=TERM, \n",
    "                                    offset=n_results)\n",
    "    \n",
    "    \n",
    "    \n",
    "    ## append new results and save to file\n",
    "    previous_results.extend(results['businesses'])\n",
    "    \n",
    "    # display(previous_results)\n",
    "    with open(JSON_FILE,'w') as f:\n",
    "        json.dump(previous_results,f)\n",
    "    \n",
    "    time.sleep(.2)"
   ]
  },
  {
   "cell_type": "code",
   "execution_count": 22,
   "id": "ae019783-b6cf-4abd-96fd-3f8f6a3556d9",
   "metadata": {},
   "outputs": [
    {
     "data": {
      "text/html": [
       "<div>\n",
       "<style scoped>\n",
       "    .dataframe tbody tr th:only-of-type {\n",
       "        vertical-align: middle;\n",
       "    }\n",
       "\n",
       "    .dataframe tbody tr th {\n",
       "        vertical-align: top;\n",
       "    }\n",
       "\n",
       "    .dataframe thead th {\n",
       "        text-align: right;\n",
       "    }\n",
       "</style>\n",
       "<table border=\"1\" class=\"dataframe\">\n",
       "  <thead>\n",
       "    <tr style=\"text-align: right;\">\n",
       "      <th></th>\n",
       "      <th>id</th>\n",
       "      <th>alias</th>\n",
       "      <th>name</th>\n",
       "      <th>image_url</th>\n",
       "      <th>is_closed</th>\n",
       "      <th>url</th>\n",
       "      <th>review_count</th>\n",
       "      <th>categories</th>\n",
       "      <th>rating</th>\n",
       "      <th>coordinates</th>\n",
       "      <th>transactions</th>\n",
       "      <th>price</th>\n",
       "      <th>location</th>\n",
       "      <th>phone</th>\n",
       "      <th>display_phone</th>\n",
       "      <th>distance</th>\n",
       "    </tr>\n",
       "  </thead>\n",
       "  <tbody>\n",
       "    <tr>\n",
       "      <th>0</th>\n",
       "      <td>8kck3-K4zYKTJbJko0JlXQ</td>\n",
       "      <td>farmhouse-kitchen-thai-cuisine-san-francisco</td>\n",
       "      <td>Farmhouse Kitchen Thai Cuisine</td>\n",
       "      <td>https://s3-media4.fl.yelpcdn.com/bphoto/kUlEaP...</td>\n",
       "      <td>False</td>\n",
       "      <td>https://www.yelp.com/biz/farmhouse-kitchen-tha...</td>\n",
       "      <td>3692</td>\n",
       "      <td>[{'alias': 'thai', 'title': 'Thai'}, {'alias':...</td>\n",
       "      <td>4.0</td>\n",
       "      <td>{'latitude': 37.760192883932795, 'longitude': ...</td>\n",
       "      <td>[delivery, pickup, restaurant_reservation]</td>\n",
       "      <td>$$</td>\n",
       "      <td>{'address1': '710 Florida St', 'address2': '',...</td>\n",
       "      <td>+14158142920</td>\n",
       "      <td>(415) 814-2920</td>\n",
       "      <td>2201.588556</td>\n",
       "    </tr>\n",
       "    <tr>\n",
       "      <th>1</th>\n",
       "      <td>tZmiZw49SNRVzF6h1Jfx9g</td>\n",
       "      <td>ben-thai-cafe-san-francisco</td>\n",
       "      <td>Ben Thai Cafe</td>\n",
       "      <td>https://s3-media1.fl.yelpcdn.com/bphoto/UVXRkn...</td>\n",
       "      <td>False</td>\n",
       "      <td>https://www.yelp.com/biz/ben-thai-cafe-san-fra...</td>\n",
       "      <td>980</td>\n",
       "      <td>[{'alias': 'thai', 'title': 'Thai'}, {'alias':...</td>\n",
       "      <td>4.5</td>\n",
       "      <td>{'latitude': 37.78924, 'longitude': -122.42065}</td>\n",
       "      <td>[delivery, pickup, restaurant_reservation]</td>\n",
       "      <td>$$</td>\n",
       "      <td>{'address1': '1331 Polk St', 'address2': None,...</td>\n",
       "      <td>+14157712562</td>\n",
       "      <td>(415) 771-2562</td>\n",
       "      <td>3445.440156</td>\n",
       "    </tr>\n",
       "    <tr>\n",
       "      <th>2</th>\n",
       "      <td>AzFqspVE3gUWYaEselXLUA</td>\n",
       "      <td>khob-khun-thai-cuisine-and-breakfast-san-franc...</td>\n",
       "      <td>Khob Khun Thai Cuisine &amp; Breakfast</td>\n",
       "      <td>https://s3-media3.fl.yelpcdn.com/bphoto/vmbbOH...</td>\n",
       "      <td>False</td>\n",
       "      <td>https://www.yelp.com/biz/khob-khun-thai-cuisin...</td>\n",
       "      <td>226</td>\n",
       "      <td>[{'alias': 'breakfast_brunch', 'title': 'Break...</td>\n",
       "      <td>4.5</td>\n",
       "      <td>{'latitude': 37.78107129493808, 'longitude': -...</td>\n",
       "      <td>[delivery, pickup]</td>\n",
       "      <td>$$</td>\n",
       "      <td>{'address1': '3741 Geary Blvd', 'address2': No...</td>\n",
       "      <td>+14153794382</td>\n",
       "      <td>(415) 379-4382</td>\n",
       "      <td>3032.307778</td>\n",
       "    </tr>\n",
       "    <tr>\n",
       "      <th>3</th>\n",
       "      <td>s2R3RUJ09eBFvHVIUS4Shg</td>\n",
       "      <td>kothai-republic-san-francisco</td>\n",
       "      <td>Kothai Republic</td>\n",
       "      <td>https://s3-media3.fl.yelpcdn.com/bphoto/eWlrib...</td>\n",
       "      <td>False</td>\n",
       "      <td>https://www.yelp.com/biz/kothai-republic-san-f...</td>\n",
       "      <td>234</td>\n",
       "      <td>[{'alias': 'korean', 'title': 'Korean'}, {'ali...</td>\n",
       "      <td>4.5</td>\n",
       "      <td>{'latitude': 37.762389, 'longitude': -122.466065}</td>\n",
       "      <td>[delivery, pickup]</td>\n",
       "      <td>NaN</td>\n",
       "      <td>{'address1': '1398 9th Ave', 'address2': None,...</td>\n",
       "      <td>+14157424058</td>\n",
       "      <td>(415) 742-4058</td>\n",
       "      <td>2606.596929</td>\n",
       "    </tr>\n",
       "    <tr>\n",
       "      <th>4</th>\n",
       "      <td>8LFfuBSFK9YfHp1r-jsJEw</td>\n",
       "      <td>oraan-thai-eatery-san-francisco</td>\n",
       "      <td>Oraan Thai Eatery</td>\n",
       "      <td>https://s3-media2.fl.yelpcdn.com/bphoto/8buUkX...</td>\n",
       "      <td>False</td>\n",
       "      <td>https://www.yelp.com/biz/oraan-thai-eatery-san...</td>\n",
       "      <td>27</td>\n",
       "      <td>[{'alias': 'thai', 'title': 'Thai'}]</td>\n",
       "      <td>4.5</td>\n",
       "      <td>{'latitude': 37.78141, 'longitude': -122.459837}</td>\n",
       "      <td>[]</td>\n",
       "      <td>NaN</td>\n",
       "      <td>{'address1': '3750 Geary Blvd', 'address2': ''...</td>\n",
       "      <td>+16282197598</td>\n",
       "      <td>(628) 219-7598</td>\n",
       "      <td>3074.144773</td>\n",
       "    </tr>\n",
       "  </tbody>\n",
       "</table>\n",
       "</div>"
      ],
      "text/plain": [
       "                       id                                              alias  \\\n",
       "0  8kck3-K4zYKTJbJko0JlXQ       farmhouse-kitchen-thai-cuisine-san-francisco   \n",
       "1  tZmiZw49SNRVzF6h1Jfx9g                        ben-thai-cafe-san-francisco   \n",
       "2  AzFqspVE3gUWYaEselXLUA  khob-khun-thai-cuisine-and-breakfast-san-franc...   \n",
       "3  s2R3RUJ09eBFvHVIUS4Shg                      kothai-republic-san-francisco   \n",
       "4  8LFfuBSFK9YfHp1r-jsJEw                    oraan-thai-eatery-san-francisco   \n",
       "\n",
       "                                 name  \\\n",
       "0      Farmhouse Kitchen Thai Cuisine   \n",
       "1                       Ben Thai Cafe   \n",
       "2  Khob Khun Thai Cuisine & Breakfast   \n",
       "3                     Kothai Republic   \n",
       "4                   Oraan Thai Eatery   \n",
       "\n",
       "                                           image_url  is_closed  \\\n",
       "0  https://s3-media4.fl.yelpcdn.com/bphoto/kUlEaP...      False   \n",
       "1  https://s3-media1.fl.yelpcdn.com/bphoto/UVXRkn...      False   \n",
       "2  https://s3-media3.fl.yelpcdn.com/bphoto/vmbbOH...      False   \n",
       "3  https://s3-media3.fl.yelpcdn.com/bphoto/eWlrib...      False   \n",
       "4  https://s3-media2.fl.yelpcdn.com/bphoto/8buUkX...      False   \n",
       "\n",
       "                                                 url  review_count  \\\n",
       "0  https://www.yelp.com/biz/farmhouse-kitchen-tha...          3692   \n",
       "1  https://www.yelp.com/biz/ben-thai-cafe-san-fra...           980   \n",
       "2  https://www.yelp.com/biz/khob-khun-thai-cuisin...           226   \n",
       "3  https://www.yelp.com/biz/kothai-republic-san-f...           234   \n",
       "4  https://www.yelp.com/biz/oraan-thai-eatery-san...            27   \n",
       "\n",
       "                                          categories  rating  \\\n",
       "0  [{'alias': 'thai', 'title': 'Thai'}, {'alias':...     4.0   \n",
       "1  [{'alias': 'thai', 'title': 'Thai'}, {'alias':...     4.5   \n",
       "2  [{'alias': 'breakfast_brunch', 'title': 'Break...     4.5   \n",
       "3  [{'alias': 'korean', 'title': 'Korean'}, {'ali...     4.5   \n",
       "4               [{'alias': 'thai', 'title': 'Thai'}]     4.5   \n",
       "\n",
       "                                         coordinates  \\\n",
       "0  {'latitude': 37.760192883932795, 'longitude': ...   \n",
       "1    {'latitude': 37.78924, 'longitude': -122.42065}   \n",
       "2  {'latitude': 37.78107129493808, 'longitude': -...   \n",
       "3  {'latitude': 37.762389, 'longitude': -122.466065}   \n",
       "4   {'latitude': 37.78141, 'longitude': -122.459837}   \n",
       "\n",
       "                                 transactions price  \\\n",
       "0  [delivery, pickup, restaurant_reservation]    $$   \n",
       "1  [delivery, pickup, restaurant_reservation]    $$   \n",
       "2                          [delivery, pickup]    $$   \n",
       "3                          [delivery, pickup]   NaN   \n",
       "4                                          []   NaN   \n",
       "\n",
       "                                            location         phone  \\\n",
       "0  {'address1': '710 Florida St', 'address2': '',...  +14158142920   \n",
       "1  {'address1': '1331 Polk St', 'address2': None,...  +14157712562   \n",
       "2  {'address1': '3741 Geary Blvd', 'address2': No...  +14153794382   \n",
       "3  {'address1': '1398 9th Ave', 'address2': None,...  +14157424058   \n",
       "4  {'address1': '3750 Geary Blvd', 'address2': ''...  +16282197598   \n",
       "\n",
       "    display_phone     distance  \n",
       "0  (415) 814-2920  2201.588556  \n",
       "1  (415) 771-2562  3445.440156  \n",
       "2  (415) 379-4382  3032.307778  \n",
       "3  (415) 742-4058  2606.596929  \n",
       "4  (628) 219-7598  3074.144773  "
      ]
     },
     "metadata": {},
     "output_type": "display_data"
    },
    {
     "data": {
      "text/html": [
       "<div>\n",
       "<style scoped>\n",
       "    .dataframe tbody tr th:only-of-type {\n",
       "        vertical-align: middle;\n",
       "    }\n",
       "\n",
       "    .dataframe tbody tr th {\n",
       "        vertical-align: top;\n",
       "    }\n",
       "\n",
       "    .dataframe thead th {\n",
       "        text-align: right;\n",
       "    }\n",
       "</style>\n",
       "<table border=\"1\" class=\"dataframe\">\n",
       "  <thead>\n",
       "    <tr style=\"text-align: right;\">\n",
       "      <th></th>\n",
       "      <th>id</th>\n",
       "      <th>alias</th>\n",
       "      <th>name</th>\n",
       "      <th>image_url</th>\n",
       "      <th>is_closed</th>\n",
       "      <th>url</th>\n",
       "      <th>review_count</th>\n",
       "      <th>categories</th>\n",
       "      <th>rating</th>\n",
       "      <th>coordinates</th>\n",
       "      <th>transactions</th>\n",
       "      <th>price</th>\n",
       "      <th>location</th>\n",
       "      <th>phone</th>\n",
       "      <th>display_phone</th>\n",
       "      <th>distance</th>\n",
       "    </tr>\n",
       "  </thead>\n",
       "  <tbody>\n",
       "    <tr>\n",
       "      <th>995</th>\n",
       "      <td>JPIsHSqd1-6tefmKNEc_Tg</td>\n",
       "      <td>xing-yuan-chinese-restaurant-alameda</td>\n",
       "      <td>Xing Yuan Chinese Restaurant</td>\n",
       "      <td>https://s3-media3.fl.yelpcdn.com/bphoto/3CPTiT...</td>\n",
       "      <td>False</td>\n",
       "      <td>https://www.yelp.com/biz/xing-yuan-chinese-res...</td>\n",
       "      <td>311</td>\n",
       "      <td>[{'alias': 'chinese', 'title': 'Chinese'}]</td>\n",
       "      <td>3.5</td>\n",
       "      <td>{'latitude': 37.783673065657, 'longitude': -12...</td>\n",
       "      <td>[delivery, pickup]</td>\n",
       "      <td>$$</td>\n",
       "      <td>{'address1': '839 Marina Village Pkwy', 'addre...</td>\n",
       "      <td>+15105228215</td>\n",
       "      <td>(510) 522-8215</td>\n",
       "      <td>14571.753546</td>\n",
       "    </tr>\n",
       "    <tr>\n",
       "      <th>996</th>\n",
       "      <td>ouAw6oihgt3Ricwcbf1fMA</td>\n",
       "      <td>pho-anh-dao-alameda-alameda</td>\n",
       "      <td>Pho Anh Dao Alameda</td>\n",
       "      <td>https://s3-media2.fl.yelpcdn.com/bphoto/pk5SKY...</td>\n",
       "      <td>False</td>\n",
       "      <td>https://www.yelp.com/biz/pho-anh-dao-alameda-a...</td>\n",
       "      <td>160</td>\n",
       "      <td>[{'alias': 'vietnamese', 'title': 'Vietnamese'}]</td>\n",
       "      <td>3.5</td>\n",
       "      <td>{'latitude': 37.778843, 'longitude': -122.276938}</td>\n",
       "      <td>[delivery]</td>\n",
       "      <td>$$</td>\n",
       "      <td>{'address1': '1919 Webster St', 'address2': ''...</td>\n",
       "      <td>+15102638577</td>\n",
       "      <td>(510) 263-8577</td>\n",
       "      <td>14161.625676</td>\n",
       "    </tr>\n",
       "    <tr>\n",
       "      <th>997</th>\n",
       "      <td>fcdjnsgO8Z5LthXUx3y-lA</td>\n",
       "      <td>pho-k-and-k-berkeley</td>\n",
       "      <td>Pho K &amp; K</td>\n",
       "      <td>https://s3-media2.fl.yelpcdn.com/bphoto/_Xn2_u...</td>\n",
       "      <td>False</td>\n",
       "      <td>https://www.yelp.com/biz/pho-k-and-k-berkeley?...</td>\n",
       "      <td>432</td>\n",
       "      <td>[{'alias': 'vietnamese', 'title': 'Vietnamese'}]</td>\n",
       "      <td>3.5</td>\n",
       "      <td>{'latitude': 37.86448, 'longitude': -122.25822}</td>\n",
       "      <td>[delivery, pickup]</td>\n",
       "      <td>$</td>\n",
       "      <td>{'address1': '2533 Telegraph Ave', 'address2':...</td>\n",
       "      <td>+15106669966</td>\n",
       "      <td>(510) 666-9966</td>\n",
       "      <td>19424.770032</td>\n",
       "    </tr>\n",
       "    <tr>\n",
       "      <th>998</th>\n",
       "      <td>cG8i_Ttq_MVGd7Ja5MTysQ</td>\n",
       "      <td>katsumi-sushi-berkeley</td>\n",
       "      <td>Katsumi Sushi</td>\n",
       "      <td>https://s3-media3.fl.yelpcdn.com/bphoto/vLJhmc...</td>\n",
       "      <td>False</td>\n",
       "      <td>https://www.yelp.com/biz/katsumi-sushi-berkele...</td>\n",
       "      <td>95</td>\n",
       "      <td>[{'alias': 'japanese', 'title': 'Japanese'}, {...</td>\n",
       "      <td>3.5</td>\n",
       "      <td>{'latitude': 37.86821, 'longitude': -122.25803}</td>\n",
       "      <td>[delivery, pickup]</td>\n",
       "      <td>$</td>\n",
       "      <td>{'address1': '2521 Durant Ave', 'address2': No...</td>\n",
       "      <td>+15105294799</td>\n",
       "      <td>(510) 529-4799</td>\n",
       "      <td>19698.176084</td>\n",
       "    </tr>\n",
       "    <tr>\n",
       "      <th>999</th>\n",
       "      <td>CNlCi4xU4FsVp0METnrT5g</td>\n",
       "      <td>chef-hungs-san-francisco</td>\n",
       "      <td>Chef Hung's</td>\n",
       "      <td>https://s3-media2.fl.yelpcdn.com/bphoto/DqiJfg...</td>\n",
       "      <td>False</td>\n",
       "      <td>https://www.yelp.com/biz/chef-hungs-san-franci...</td>\n",
       "      <td>184</td>\n",
       "      <td>[{'alias': 'chinese', 'title': 'Chinese'}]</td>\n",
       "      <td>3.5</td>\n",
       "      <td>{'latitude': 37.79405, 'longitude': -122.40665}</td>\n",
       "      <td>[delivery]</td>\n",
       "      <td>$</td>\n",
       "      <td>{'address1': '823 Clay St', 'address2': '', 'a...</td>\n",
       "      <td>+14153986883</td>\n",
       "      <td>(415) 398-6883</td>\n",
       "      <td>4526.095051</td>\n",
       "    </tr>\n",
       "  </tbody>\n",
       "</table>\n",
       "</div>"
      ],
      "text/plain": [
       "                         id                                 alias  \\\n",
       "995  JPIsHSqd1-6tefmKNEc_Tg  xing-yuan-chinese-restaurant-alameda   \n",
       "996  ouAw6oihgt3Ricwcbf1fMA           pho-anh-dao-alameda-alameda   \n",
       "997  fcdjnsgO8Z5LthXUx3y-lA                  pho-k-and-k-berkeley   \n",
       "998  cG8i_Ttq_MVGd7Ja5MTysQ                katsumi-sushi-berkeley   \n",
       "999  CNlCi4xU4FsVp0METnrT5g              chef-hungs-san-francisco   \n",
       "\n",
       "                             name  \\\n",
       "995  Xing Yuan Chinese Restaurant   \n",
       "996           Pho Anh Dao Alameda   \n",
       "997                     Pho K & K   \n",
       "998                 Katsumi Sushi   \n",
       "999                   Chef Hung's   \n",
       "\n",
       "                                             image_url  is_closed  \\\n",
       "995  https://s3-media3.fl.yelpcdn.com/bphoto/3CPTiT...      False   \n",
       "996  https://s3-media2.fl.yelpcdn.com/bphoto/pk5SKY...      False   \n",
       "997  https://s3-media2.fl.yelpcdn.com/bphoto/_Xn2_u...      False   \n",
       "998  https://s3-media3.fl.yelpcdn.com/bphoto/vLJhmc...      False   \n",
       "999  https://s3-media2.fl.yelpcdn.com/bphoto/DqiJfg...      False   \n",
       "\n",
       "                                                   url  review_count  \\\n",
       "995  https://www.yelp.com/biz/xing-yuan-chinese-res...           311   \n",
       "996  https://www.yelp.com/biz/pho-anh-dao-alameda-a...           160   \n",
       "997  https://www.yelp.com/biz/pho-k-and-k-berkeley?...           432   \n",
       "998  https://www.yelp.com/biz/katsumi-sushi-berkele...            95   \n",
       "999  https://www.yelp.com/biz/chef-hungs-san-franci...           184   \n",
       "\n",
       "                                            categories  rating  \\\n",
       "995         [{'alias': 'chinese', 'title': 'Chinese'}]     3.5   \n",
       "996   [{'alias': 'vietnamese', 'title': 'Vietnamese'}]     3.5   \n",
       "997   [{'alias': 'vietnamese', 'title': 'Vietnamese'}]     3.5   \n",
       "998  [{'alias': 'japanese', 'title': 'Japanese'}, {...     3.5   \n",
       "999         [{'alias': 'chinese', 'title': 'Chinese'}]     3.5   \n",
       "\n",
       "                                           coordinates        transactions  \\\n",
       "995  {'latitude': 37.783673065657, 'longitude': -12...  [delivery, pickup]   \n",
       "996  {'latitude': 37.778843, 'longitude': -122.276938}          [delivery]   \n",
       "997    {'latitude': 37.86448, 'longitude': -122.25822}  [delivery, pickup]   \n",
       "998    {'latitude': 37.86821, 'longitude': -122.25803}  [delivery, pickup]   \n",
       "999    {'latitude': 37.79405, 'longitude': -122.40665}          [delivery]   \n",
       "\n",
       "    price                                           location         phone  \\\n",
       "995    $$  {'address1': '839 Marina Village Pkwy', 'addre...  +15105228215   \n",
       "996    $$  {'address1': '1919 Webster St', 'address2': ''...  +15102638577   \n",
       "997     $  {'address1': '2533 Telegraph Ave', 'address2':...  +15106669966   \n",
       "998     $  {'address1': '2521 Durant Ave', 'address2': No...  +15105294799   \n",
       "999     $  {'address1': '823 Clay St', 'address2': '', 'a...  +14153986883   \n",
       "\n",
       "      display_phone      distance  \n",
       "995  (510) 522-8215  14571.753546  \n",
       "996  (510) 263-8577  14161.625676  \n",
       "997  (510) 666-9966  19424.770032  \n",
       "998  (510) 529-4799  19698.176084  \n",
       "999  (415) 398-6883   4526.095051  "
      ]
     },
     "metadata": {},
     "output_type": "display_data"
    }
   ],
   "source": [
    "final_df = pd.read_json(JSON_FILE)\n",
    "display(final_df.head(), final_df.tail())"
   ]
  },
  {
   "cell_type": "code",
   "execution_count": 24,
   "id": "27522abd-53ac-4825-8073-c1087cc4a0ac",
   "metadata": {},
   "outputs": [
    {
     "data": {
      "text/plain": [
       "0"
      ]
     },
     "execution_count": 24,
     "metadata": {},
     "output_type": "execute_result"
    }
   ],
   "source": [
    "final_df.duplicated(subset='id').sum()"
   ]
  },
  {
   "cell_type": "code",
   "execution_count": 25,
   "id": "3d87cb40-de12-4ec9-bdef-74ba7921149b",
   "metadata": {},
   "outputs": [
    {
     "data": {
      "text/plain": [
       "0"
      ]
     },
     "execution_count": 25,
     "metadata": {},
     "output_type": "execute_result"
    }
   ],
   "source": [
    "final_df = final_df.drop_duplicates(subset='id')\n",
    "final_df.duplicated(subset='id').sum()"
   ]
  },
  {
   "cell_type": "code",
   "execution_count": 26,
   "id": "2e4a6045-5c2c-411f-a8a0-f921645c0ee8",
   "metadata": {},
   "outputs": [],
   "source": [
    "final_df.to_csv('Data/final_results_NY_pizza.csv.gz', compression='gzip',index=False)"
   ]
  }
 ],
 "metadata": {
  "kernelspec": {
   "display_name": "Python (dojo-env)",
   "language": "python",
   "name": "dojo-env"
  },
  "language_info": {
   "codemirror_mode": {
    "name": "ipython",
    "version": 3
   },
   "file_extension": ".py",
   "mimetype": "text/x-python",
   "name": "python",
   "nbconvert_exporter": "python",
   "pygments_lexer": "ipython3",
   "version": "3.10.10"
  },
  "widgets": {
   "application/vnd.jupyter.widget-state+json": {
    "state": {
     "031611c8d4e543d3b62c0928438a5d7f": {
      "model_module": "@jupyter-widgets/controls",
      "model_module_version": "2.0.0",
      "model_name": "ProgressStyleModel",
      "state": {
       "description_width": ""
      }
     },
     "0976a2fb615b4d05a808517d42f1ba2f": {
      "model_module": "@jupyter-widgets/base",
      "model_module_version": "2.0.0",
      "model_name": "LayoutModel",
      "state": {}
     },
     "14b3758a64b141c7b57894094c2c4998": {
      "model_module": "@jupyter-widgets/base",
      "model_module_version": "2.0.0",
      "model_name": "LayoutModel",
      "state": {}
     },
     "15f6821e4789496ba5668e085b921de1": {
      "model_module": "@jupyter-widgets/controls",
      "model_module_version": "2.0.0",
      "model_name": "HTMLStyleModel",
      "state": {
       "description_width": "",
       "font_size": null,
       "text_color": null
      }
     },
     "162d3b27b75a45f6b520a79797edbf66": {
      "model_module": "@jupyter-widgets/controls",
      "model_module_version": "2.0.0",
      "model_name": "HTMLModel",
      "state": {
       "layout": "IPY_MODEL_8c6b17cd47794d62b011a920263b18d0",
       "style": "IPY_MODEL_ff78bb55b5ba4becb1e1e120b81e963c",
       "value": " 50/55 [00:53&lt;00:07,  1.49s/it]"
      }
     },
     "1f623ab0b3d0478fb3f47831af51c3f9": {
      "model_module": "@jupyter-widgets/controls",
      "model_module_version": "2.0.0",
      "model_name": "HTMLStyleModel",
      "state": {
       "description_width": "",
       "font_size": null,
       "text_color": null
      }
     },
     "22d163321bca4f25ae1c863e509d644e": {
      "model_module": "@jupyter-widgets/controls",
      "model_module_version": "2.0.0",
      "model_name": "HTMLStyleModel",
      "state": {
       "description_width": "",
       "font_size": null,
       "text_color": null
      }
     },
     "2d14935c57b34de5a1a3eab118897fa4": {
      "model_module": "@jupyter-widgets/controls",
      "model_module_version": "2.0.0",
      "model_name": "HTMLModel",
      "state": {
       "layout": "IPY_MODEL_d38da32cd1ff47969dd9cf3cba5a2b38",
       "style": "IPY_MODEL_8d613c4093164e70b470c90254280d42",
       "value": " 49/55 [01:00&lt;00:09,  1.65s/it]"
      }
     },
     "3d00c905e7b14a08a88e10f91abd9eeb": {
      "model_module": "@jupyter-widgets/controls",
      "model_module_version": "2.0.0",
      "model_name": "HTMLModel",
      "state": {
       "layout": "IPY_MODEL_40d61badd18b4082a5d528bddf9e7bb0",
       "style": "IPY_MODEL_1f623ab0b3d0478fb3f47831af51c3f9",
       "value": " 89%"
      }
     },
     "40a85f5692c74ad299f703749aabe861": {
      "model_module": "@jupyter-widgets/controls",
      "model_module_version": "2.0.0",
      "model_name": "HTMLModel",
      "state": {
       "layout": "IPY_MODEL_44456fd7c6fe4cb4940a5d7f6de56222",
       "style": "IPY_MODEL_15f6821e4789496ba5668e085b921de1",
       "value": " 91%"
      }
     },
     "40d61badd18b4082a5d528bddf9e7bb0": {
      "model_module": "@jupyter-widgets/base",
      "model_module_version": "2.0.0",
      "model_name": "LayoutModel",
      "state": {}
     },
     "44456fd7c6fe4cb4940a5d7f6de56222": {
      "model_module": "@jupyter-widgets/base",
      "model_module_version": "2.0.0",
      "model_name": "LayoutModel",
      "state": {}
     },
     "4ecca03b3dae447ea9fc6ec6626d7727": {
      "model_module": "@jupyter-widgets/controls",
      "model_module_version": "2.0.0",
      "model_name": "FloatProgressModel",
      "state": {
       "bar_style": "danger",
       "layout": "IPY_MODEL_be9105d2c2314452a968e5fd242260b2",
       "max": 55,
       "style": "IPY_MODEL_f0bdff6ad93441c2803884404c799902",
       "value": 49
      }
     },
     "4f2840d845bd498dafec798482afc8ae": {
      "model_module": "@jupyter-widgets/controls",
      "model_module_version": "2.0.0",
      "model_name": "FloatProgressModel",
      "state": {
       "bar_style": "danger",
       "layout": "IPY_MODEL_5f511d3d752f4d03b4e6829ef5c5a32a",
       "max": 55,
       "style": "IPY_MODEL_e047b70c451a4653a2795bbbcf1d7325",
       "value": 50
      }
     },
     "59c8e42f451543349c0b62fe28e920a9": {
      "model_module": "@jupyter-widgets/base",
      "model_module_version": "2.0.0",
      "model_name": "LayoutModel",
      "state": {}
     },
     "5d6f23be5a574bf4b317fa0abd0733bf": {
      "model_module": "@jupyter-widgets/controls",
      "model_module_version": "2.0.0",
      "model_name": "FloatProgressModel",
      "state": {
       "bar_style": "success",
       "layout": "IPY_MODEL_a4d9a545c83d489da8eaa5158d8a2e6e",
       "max": 55,
       "style": "IPY_MODEL_6fb2ec4a4f944882ae2d92e0a6bd2e87",
       "value": 55
      }
     },
     "5f511d3d752f4d03b4e6829ef5c5a32a": {
      "model_module": "@jupyter-widgets/base",
      "model_module_version": "2.0.0",
      "model_name": "LayoutModel",
      "state": {}
     },
     "62c740394bde4d978c78495c49d6a516": {
      "model_module": "@jupyter-widgets/controls",
      "model_module_version": "2.0.0",
      "model_name": "HBoxModel",
      "state": {
       "children": [
        "IPY_MODEL_f46b4ec5c9894b3f92df31a0d12511f7",
        "IPY_MODEL_5d6f23be5a574bf4b317fa0abd0733bf",
        "IPY_MODEL_d4365f0ce5b446ab8a161f633d8ea27e"
       ],
       "layout": "IPY_MODEL_c3bf49f0fb04411bb03b910aa8ab1c6a"
      }
     },
     "6fb2ec4a4f944882ae2d92e0a6bd2e87": {
      "model_module": "@jupyter-widgets/controls",
      "model_module_version": "2.0.0",
      "model_name": "ProgressStyleModel",
      "state": {
       "description_width": ""
      }
     },
     "8b2f2a47621b4bb18c01d7636d6a46f3": {
      "model_module": "@jupyter-widgets/base",
      "model_module_version": "2.0.0",
      "model_name": "LayoutModel",
      "state": {}
     },
     "8c6b17cd47794d62b011a920263b18d0": {
      "model_module": "@jupyter-widgets/base",
      "model_module_version": "2.0.0",
      "model_name": "LayoutModel",
      "state": {}
     },
     "8d613c4093164e70b470c90254280d42": {
      "model_module": "@jupyter-widgets/controls",
      "model_module_version": "2.0.0",
      "model_name": "HTMLStyleModel",
      "state": {
       "description_width": "",
       "font_size": null,
       "text_color": null
      }
     },
     "a1d7362937034e28b104652473599164": {
      "model_module": "@jupyter-widgets/base",
      "model_module_version": "2.0.0",
      "model_name": "LayoutModel",
      "state": {}
     },
     "a2b93621ce994bc6ada8e96102fd7ccc": {
      "model_module": "@jupyter-widgets/controls",
      "model_module_version": "2.0.0",
      "model_name": "FloatProgressModel",
      "state": {
       "bar_style": "success",
       "layout": "IPY_MODEL_a1d7362937034e28b104652473599164",
       "max": 55,
       "style": "IPY_MODEL_031611c8d4e543d3b62c0928438a5d7f",
       "value": 55
      }
     },
     "a2f6c66bfe924b9fa30896455018ba40": {
      "model_module": "@jupyter-widgets/base",
      "model_module_version": "2.0.0",
      "model_name": "LayoutModel",
      "state": {}
     },
     "a4d9a545c83d489da8eaa5158d8a2e6e": {
      "model_module": "@jupyter-widgets/base",
      "model_module_version": "2.0.0",
      "model_name": "LayoutModel",
      "state": {}
     },
     "abc13256ccc84c62b6caaa44991015aa": {
      "model_module": "@jupyter-widgets/controls",
      "model_module_version": "2.0.0",
      "model_name": "HBoxModel",
      "state": {
       "children": [
        "IPY_MODEL_3d00c905e7b14a08a88e10f91abd9eeb",
        "IPY_MODEL_4ecca03b3dae447ea9fc6ec6626d7727",
        "IPY_MODEL_2d14935c57b34de5a1a3eab118897fa4"
       ],
       "layout": "IPY_MODEL_8b2f2a47621b4bb18c01d7636d6a46f3"
      }
     },
     "b18191cd2bc64cf88f5d8b4d897bb9ed": {
      "model_module": "@jupyter-widgets/controls",
      "model_module_version": "2.0.0",
      "model_name": "HTMLStyleModel",
      "state": {
       "description_width": "",
       "font_size": null,
       "text_color": null
      }
     },
     "b684b7dc787844cc9c318cf8b233014e": {
      "model_module": "@jupyter-widgets/controls",
      "model_module_version": "2.0.0",
      "model_name": "HTMLModel",
      "state": {
       "layout": "IPY_MODEL_0976a2fb615b4d05a808517d42f1ba2f",
       "style": "IPY_MODEL_b8d5718920ea4a508b2627a7c119d579",
       "value": " 55/55 [00:11&lt;00:00,  4.89it/s]"
      }
     },
     "b86dae79ceee40cab157f8f6433570e4": {
      "model_module": "@jupyter-widgets/controls",
      "model_module_version": "2.0.0",
      "model_name": "HTMLStyleModel",
      "state": {
       "description_width": "",
       "font_size": null,
       "text_color": null
      }
     },
     "b8d5718920ea4a508b2627a7c119d579": {
      "model_module": "@jupyter-widgets/controls",
      "model_module_version": "2.0.0",
      "model_name": "HTMLStyleModel",
      "state": {
       "description_width": "",
       "font_size": null,
       "text_color": null
      }
     },
     "be9105d2c2314452a968e5fd242260b2": {
      "model_module": "@jupyter-widgets/base",
      "model_module_version": "2.0.0",
      "model_name": "LayoutModel",
      "state": {}
     },
     "c03ecbf0566f4e088d3cd4eeb3ab92ff": {
      "model_module": "@jupyter-widgets/base",
      "model_module_version": "2.0.0",
      "model_name": "LayoutModel",
      "state": {}
     },
     "c1388e4ff7e043c09f1282be86a87ab7": {
      "model_module": "@jupyter-widgets/controls",
      "model_module_version": "2.0.0",
      "model_name": "HTMLModel",
      "state": {
       "layout": "IPY_MODEL_14b3758a64b141c7b57894094c2c4998",
       "style": "IPY_MODEL_b18191cd2bc64cf88f5d8b4d897bb9ed",
       "value": "100%"
      }
     },
     "c3bf49f0fb04411bb03b910aa8ab1c6a": {
      "model_module": "@jupyter-widgets/base",
      "model_module_version": "2.0.0",
      "model_name": "LayoutModel",
      "state": {}
     },
     "d38da32cd1ff47969dd9cf3cba5a2b38": {
      "model_module": "@jupyter-widgets/base",
      "model_module_version": "2.0.0",
      "model_name": "LayoutModel",
      "state": {}
     },
     "d4365f0ce5b446ab8a161f633d8ea27e": {
      "model_module": "@jupyter-widgets/controls",
      "model_module_version": "2.0.0",
      "model_name": "HTMLModel",
      "state": {
       "layout": "IPY_MODEL_59c8e42f451543349c0b62fe28e920a9",
       "style": "IPY_MODEL_22d163321bca4f25ae1c863e509d644e",
       "value": " 55/55 [00:11&lt;00:00,  4.84it/s]"
      }
     },
     "d99dce5f284d438c94b1b563c68acc3a": {
      "model_module": "@jupyter-widgets/controls",
      "model_module_version": "2.0.0",
      "model_name": "HBoxModel",
      "state": {
       "children": [
        "IPY_MODEL_40a85f5692c74ad299f703749aabe861",
        "IPY_MODEL_4f2840d845bd498dafec798482afc8ae",
        "IPY_MODEL_162d3b27b75a45f6b520a79797edbf66"
       ],
       "layout": "IPY_MODEL_a2f6c66bfe924b9fa30896455018ba40"
      }
     },
     "dec70b2e301c415abf5e974e38350171": {
      "model_module": "@jupyter-widgets/base",
      "model_module_version": "2.0.0",
      "model_name": "LayoutModel",
      "state": {}
     },
     "e047b70c451a4653a2795bbbcf1d7325": {
      "model_module": "@jupyter-widgets/controls",
      "model_module_version": "2.0.0",
      "model_name": "ProgressStyleModel",
      "state": {
       "description_width": ""
      }
     },
     "ec6fba592ed146a58bb8146cb2e1315a": {
      "model_module": "@jupyter-widgets/controls",
      "model_module_version": "2.0.0",
      "model_name": "HBoxModel",
      "state": {
       "children": [
        "IPY_MODEL_c1388e4ff7e043c09f1282be86a87ab7",
        "IPY_MODEL_a2b93621ce994bc6ada8e96102fd7ccc",
        "IPY_MODEL_b684b7dc787844cc9c318cf8b233014e"
       ],
       "layout": "IPY_MODEL_dec70b2e301c415abf5e974e38350171"
      }
     },
     "f0bdff6ad93441c2803884404c799902": {
      "model_module": "@jupyter-widgets/controls",
      "model_module_version": "2.0.0",
      "model_name": "ProgressStyleModel",
      "state": {
       "description_width": ""
      }
     },
     "f46b4ec5c9894b3f92df31a0d12511f7": {
      "model_module": "@jupyter-widgets/controls",
      "model_module_version": "2.0.0",
      "model_name": "HTMLModel",
      "state": {
       "layout": "IPY_MODEL_c03ecbf0566f4e088d3cd4eeb3ab92ff",
       "style": "IPY_MODEL_b86dae79ceee40cab157f8f6433570e4",
       "value": "100%"
      }
     },
     "ff78bb55b5ba4becb1e1e120b81e963c": {
      "model_module": "@jupyter-widgets/controls",
      "model_module_version": "2.0.0",
      "model_name": "HTMLStyleModel",
      "state": {
       "description_width": "",
       "font_size": null,
       "text_color": null
      }
     }
    },
    "version_major": 2,
    "version_minor": 0
   }
  }
 },
 "nbformat": 4,
 "nbformat_minor": 5
}
