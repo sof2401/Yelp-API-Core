{
 "cells": [
  {
   "cell_type": "code",
   "execution_count": 12,
   "id": "77485677-34f5-45c8-96ac-4d69a9e01c08",
   "metadata": {},
   "outputs": [
    {
     "data": {
      "text/plain": [
       "dict_keys(['client-id', 'api-key'])"
      ]
     },
     "execution_count": 12,
     "metadata": {},
     "output_type": "execute_result"
    }
   ],
   "source": [
    "import numpy as np\n",
    "import pandas as pd\n",
    "import matplotlib.pyplot as plt\n",
    "import seaborn as sns\n",
    "\n",
    "import os, json, math, time\n",
    "from yelpapi import YelpAPI\n",
    "from tqdm.notebook import tqdm_notebook\n",
    "\n",
    "\n",
    "with open('/Users/sofiawang/.secret/yelp_api.json') as f:\n",
    "    login = json.load(f)\n",
    "login.keys()"
   ]
  },
  {
   "cell_type": "code",
   "execution_count": 13,
   "id": "aaad03cd-cce0-457a-aa13-ca42d625cc60",
   "metadata": {},
   "outputs": [
    {
     "name": "stdout",
     "output_type": "stream",
     "text": [
      "Requirement already satisfied: tqdm in /Users/sofiawang/anaconda3/envs/dojo-env/lib/python3.10/site-packages (4.65.0)\n"
     ]
    }
   ],
   "source": [
    "!pip install tqdm"
   ]
  },
  {
   "cell_type": "code",
   "execution_count": 14,
   "id": "9438b076-36c8-43f0-9370-c182935ae06e",
   "metadata": {},
   "outputs": [],
   "source": [
    "with open('/Users/sofiawang/.secret/yelp_api.json') as f:   \n",
    "    login = json.load(f)\n",
    "\n",
    "yelp_api = YelpAPI(login['api-key'], timeout_s=5.0)"
   ]
  },
  {
   "cell_type": "code",
   "execution_count": 15,
   "id": "0d124196-5733-4e22-9800-22cbae6eda76",
   "metadata": {},
   "outputs": [
    {
     "name": "stdout",
     "output_type": "stream",
     "text": [
      "<class 'dict'>\n"
     ]
    },
    {
     "data": {
      "text/plain": [
       "dict_keys(['businesses', 'total', 'region'])"
      ]
     },
     "execution_count": 15,
     "metadata": {},
     "output_type": "execute_result"
    }
   ],
   "source": [
    "results = yelp_api.search_query(location='SF, CA',\n",
    "                                       term='Thai')\n",
    "print(type(results))\n",
    "results.keys()"
   ]
  },
  {
   "cell_type": "code",
   "execution_count": 16,
   "id": "69fd6bdf-c854-44e0-8e15-e6ab91996c3c",
   "metadata": {},
   "outputs": [],
   "source": [
    "LOCATION = 'SF,CA'\n",
    "TERM = 'Thai'"
   ]
  },
  {
   "cell_type": "code",
   "execution_count": 17,
   "id": "3587820a-b3e0-4f40-b4d1-0c8d4e4b4312",
   "metadata": {},
   "outputs": [
    {
     "data": {
      "text/plain": [
       "'Data/results_in_progress_SF_thai.json'"
      ]
     },
     "execution_count": 17,
     "metadata": {},
     "output_type": "execute_result"
    }
   ],
   "source": [
    "JSON_FILE = \"Data/results_in_progress_SF_thai.json\"\n",
    "JSON_FILE"
   ]
  },
  {
   "cell_type": "code",
   "execution_count": 18,
   "id": "e96ef735-161d-4c30-8a82-0024d11663f0",
   "metadata": {},
   "outputs": [
    {
     "name": "stdout",
     "output_type": "stream",
     "text": [
      "[i] Data/results_in_progress_SF_thai.json already exists.\n"
     ]
    }
   ],
   "source": [
    "## Check if JSON_FILE exists\n",
    "file_exists = os.path.isfile(JSON_FILE)\n",
    "## If it does not exist: \n",
    "if file_exists == False:\n",
    "    \n",
    "    ## CREATE ANY NEEDED FOLDERS\n",
    "    # Get the Folder Name only\n",
    "    folder = os.path.dirname(JSON_FILE)\n",
    "    ## If JSON_FILE included a folder:\n",
    "    if len(folder)>0:\n",
    "        # create the folder\n",
    "        os.makedirs(folder,exist_ok=True)\n",
    "        \n",
    "        \n",
    "    ## INFORM USER AND SAVE EMPTY LIST\n",
    "    print(f'[i] {JSON_FILE} not found. Saving empty list to file.')\n",
    "    \n",
    "    \n",
    "    # save an empty list\n",
    "    with open(JSON_FILE,'w') as f:\n",
    "        json.dump([],f)  \n",
    "# If it exists, inform user\n",
    "else:\n",
    "    print(f\"[i] {JSON_FILE} already exists.\")"
   ]
  },
  {
   "cell_type": "code",
   "execution_count": 19,
   "id": "3d3a0232-676d-4a68-b63e-01ed0e8eaccf",
   "metadata": {},
   "outputs": [
    {
     "name": "stdout",
     "output_type": "stream",
     "text": [
      "- 1000 previous results found.\n"
     ]
    }
   ],
   "source": [
    "with open(JSON_FILE,'r') as f:\n",
    "    previous_results = json.load(f)\n",
    "    \n",
    "n_results = len(previous_results)\n",
    "print(f'- {n_results} previous results found.')"
   ]
  },
  {
   "cell_type": "code",
   "execution_count": 20,
   "id": "50accab8-8293-4c91-a3aa-3305a0121627",
   "metadata": {},
   "outputs": [
    {
     "data": {
      "text/plain": [
       "1100"
      ]
     },
     "execution_count": 20,
     "metadata": {},
     "output_type": "execute_result"
    }
   ],
   "source": [
    "total_results= results['total']\n",
    "total_results"
   ]
  },
  {
   "cell_type": "code",
   "execution_count": 21,
   "id": "1ff7997c-c204-4cab-b3fa-a62bb520108a",
   "metadata": {},
   "outputs": [
    {
     "data": {
      "text/html": [
       "<div>\n",
       "<style scoped>\n",
       "    .dataframe tbody tr th:only-of-type {\n",
       "        vertical-align: middle;\n",
       "    }\n",
       "\n",
       "    .dataframe tbody tr th {\n",
       "        vertical-align: top;\n",
       "    }\n",
       "\n",
       "    .dataframe thead th {\n",
       "        text-align: right;\n",
       "    }\n",
       "</style>\n",
       "<table border=\"1\" class=\"dataframe\">\n",
       "  <thead>\n",
       "    <tr style=\"text-align: right;\">\n",
       "      <th></th>\n",
       "      <th>id</th>\n",
       "      <th>alias</th>\n",
       "      <th>name</th>\n",
       "      <th>image_url</th>\n",
       "      <th>is_closed</th>\n",
       "      <th>url</th>\n",
       "      <th>review_count</th>\n",
       "      <th>categories</th>\n",
       "      <th>rating</th>\n",
       "      <th>coordinates</th>\n",
       "      <th>transactions</th>\n",
       "      <th>price</th>\n",
       "      <th>location</th>\n",
       "      <th>phone</th>\n",
       "      <th>display_phone</th>\n",
       "      <th>distance</th>\n",
       "    </tr>\n",
       "  </thead>\n",
       "  <tbody>\n",
       "    <tr>\n",
       "      <th>0</th>\n",
       "      <td>8kck3-K4zYKTJbJko0JlXQ</td>\n",
       "      <td>farmhouse-kitchen-thai-cuisine-san-francisco</td>\n",
       "      <td>Farmhouse Kitchen Thai Cuisine</td>\n",
       "      <td>https://s3-media4.fl.yelpcdn.com/bphoto/kUlEaP...</td>\n",
       "      <td>False</td>\n",
       "      <td>https://www.yelp.com/biz/farmhouse-kitchen-tha...</td>\n",
       "      <td>3719</td>\n",
       "      <td>[{'alias': 'thai', 'title': 'Thai'}, {'alias':...</td>\n",
       "      <td>4.0</td>\n",
       "      <td>{'latitude': 37.760192883932795, 'longitude': ...</td>\n",
       "      <td>[delivery, restaurant_reservation, pickup]</td>\n",
       "      <td>$$</td>\n",
       "      <td>{'address1': '710 Florida St', 'address2': '',...</td>\n",
       "      <td>+14158142920</td>\n",
       "      <td>(415) 814-2920</td>\n",
       "      <td>2201.588556</td>\n",
       "    </tr>\n",
       "    <tr>\n",
       "      <th>1</th>\n",
       "      <td>tZmiZw49SNRVzF6h1Jfx9g</td>\n",
       "      <td>ben-thai-cafe-san-francisco</td>\n",
       "      <td>Ben Thai Cafe</td>\n",
       "      <td>https://s3-media1.fl.yelpcdn.com/bphoto/UVXRkn...</td>\n",
       "      <td>False</td>\n",
       "      <td>https://www.yelp.com/biz/ben-thai-cafe-san-fra...</td>\n",
       "      <td>1016</td>\n",
       "      <td>[{'alias': 'thai', 'title': 'Thai'}, {'alias':...</td>\n",
       "      <td>4.5</td>\n",
       "      <td>{'latitude': 37.78924, 'longitude': -122.42065}</td>\n",
       "      <td>[delivery, pickup, restaurant_reservation]</td>\n",
       "      <td>$$</td>\n",
       "      <td>{'address1': '1331 Polk St', 'address2': None,...</td>\n",
       "      <td>+14157712562</td>\n",
       "      <td>(415) 771-2562</td>\n",
       "      <td>3445.440156</td>\n",
       "    </tr>\n",
       "  </tbody>\n",
       "</table>\n",
       "</div>"
      ],
      "text/plain": [
       "                       id                                         alias  \\\n",
       "0  8kck3-K4zYKTJbJko0JlXQ  farmhouse-kitchen-thai-cuisine-san-francisco   \n",
       "1  tZmiZw49SNRVzF6h1Jfx9g                   ben-thai-cafe-san-francisco   \n",
       "\n",
       "                             name  \\\n",
       "0  Farmhouse Kitchen Thai Cuisine   \n",
       "1                   Ben Thai Cafe   \n",
       "\n",
       "                                           image_url  is_closed  \\\n",
       "0  https://s3-media4.fl.yelpcdn.com/bphoto/kUlEaP...      False   \n",
       "1  https://s3-media1.fl.yelpcdn.com/bphoto/UVXRkn...      False   \n",
       "\n",
       "                                                 url  review_count  \\\n",
       "0  https://www.yelp.com/biz/farmhouse-kitchen-tha...          3719   \n",
       "1  https://www.yelp.com/biz/ben-thai-cafe-san-fra...          1016   \n",
       "\n",
       "                                          categories  rating  \\\n",
       "0  [{'alias': 'thai', 'title': 'Thai'}, {'alias':...     4.0   \n",
       "1  [{'alias': 'thai', 'title': 'Thai'}, {'alias':...     4.5   \n",
       "\n",
       "                                         coordinates  \\\n",
       "0  {'latitude': 37.760192883932795, 'longitude': ...   \n",
       "1    {'latitude': 37.78924, 'longitude': -122.42065}   \n",
       "\n",
       "                                 transactions price  \\\n",
       "0  [delivery, restaurant_reservation, pickup]    $$   \n",
       "1  [delivery, pickup, restaurant_reservation]    $$   \n",
       "\n",
       "                                            location         phone  \\\n",
       "0  {'address1': '710 Florida St', 'address2': '',...  +14158142920   \n",
       "1  {'address1': '1331 Polk St', 'address2': None,...  +14157712562   \n",
       "\n",
       "    display_phone     distance  \n",
       "0  (415) 814-2920  2201.588556  \n",
       "1  (415) 771-2562  3445.440156  "
      ]
     },
     "execution_count": 21,
     "metadata": {},
     "output_type": "execute_result"
    }
   ],
   "source": [
    "import pandas as pd\n",
    "\n",
    "biz = pd.DataFrame(results['businesses'])\n",
    "biz.head(2) "
   ]
  },
  {
   "cell_type": "code",
   "execution_count": 22,
   "id": "12098b3c-67b7-4e9b-bf34-951f671b050b",
   "metadata": {},
   "outputs": [
    {
     "data": {
      "text/plain": [
       "20"
      ]
     },
     "execution_count": 22,
     "metadata": {},
     "output_type": "execute_result"
    }
   ],
   "source": [
    "results_per_page = len(results['businesses'])\n",
    "results_per_page"
   ]
  },
  {
   "cell_type": "code",
   "execution_count": 23,
   "id": "0c5f1b28-6c97-4eed-8226-295e9d1c00f3",
   "metadata": {},
   "outputs": [
    {
     "data": {
      "text/plain": [
       "5"
      ]
     },
     "execution_count": 23,
     "metadata": {},
     "output_type": "execute_result"
    }
   ],
   "source": [
    "import time, math\n",
    "\n",
    "n_pages = math.ceil((results['total']-n_results)/ results_per_page)\n",
    "n_pages"
   ]
  },
  {
   "cell_type": "code",
   "execution_count": 24,
   "id": "8a6ac5d2-037a-4f92-8d4b-bee2a5cf0282",
   "metadata": {},
   "outputs": [],
   "source": [
    "previous_results.extend(results['businesses'])  \n",
    "with open(JSON_FILE,'w') as f:\n",
    "     json.dump(previous_results,f)"
   ]
  },
  {
   "cell_type": "code",
   "execution_count": 25,
   "id": "93615524-8b21-4445-8ff6-be9580914d72",
   "metadata": {},
   "outputs": [
    {
     "name": "stdout",
     "output_type": "stream",
     "text": [
      "Requirement already satisfied: tqdm in /Users/sofiawang/anaconda3/envs/dojo-env/lib/python3.10/site-packages (4.65.0)\n",
      "Note: you may need to restart the kernel to use updated packages.\n"
     ]
    }
   ],
   "source": [
    "pip install tqdm"
   ]
  },
  {
   "cell_type": "code",
   "execution_count": 26,
   "id": "63e2b12d-289a-4c1f-8796-4cdac541e942",
   "metadata": {},
   "outputs": [
    {
     "data": {
      "application/vnd.jupyter.widget-view+json": {
       "model_id": "9c181a44854b4f9d9a618afd0f720369",
       "version_major": 2,
       "version_minor": 0
      },
      "text/plain": [
       "  0%|          | 0/5 [00:00<?, ?it/s]"
      ]
     },
     "metadata": {},
     "output_type": "display_data"
    }
   ],
   "source": [
    "from tqdm.notebook import tqdm_notebook\n",
    "import time\n",
    "for i in tqdm_notebook(range(n_pages)):\n",
    "    # adds 200 ms pause\n",
    "    time.sleep(.2) "
   ]
  },
  {
   "cell_type": "code",
   "execution_count": 27,
   "id": "f30692cb-9b8f-4de2-a18d-87136260321b",
   "metadata": {},
   "outputs": [],
   "source": [
    "def create_json_file(JSON_FILE,  delete_if_exists=False):\n",
    "    \n",
    "    ## Check if JSON_FILE exists\n",
    "    file_exists = os.path.isfile(JSON_FILE)\n",
    "    \n",
    "    ## If it DOES exist:\n",
    "    if file_exists == True:\n",
    "        \n",
    "        ## Check if user wants to delete if exists\n",
    "        if delete_if_exists==True:\n",
    "            \n",
    "            print(f\"[!] {JSON_FILE} already exists. Deleting previous file...\")\n",
    "            ## delete file and confirm it no longer exits.\n",
    "            os.remove(JSON_FILE)\n",
    "            ## Recursive call to function after old file deleted\n",
    "            create_json_file(JSON_FILE,delete_if_exists=False)\n",
    "        else:\n",
    "            print(f\"[i] {JSON_FILE} already exists.\")            \n",
    "            \n",
    "            \n",
    "    ## If it does NOT exist:\n",
    "    else:\n",
    "        \n",
    "        ## INFORM USER AND SAVE EMPTY LIST\n",
    "        print(f\"[i] {JSON_FILE} not found. Saving empty list to new file.\")\n",
    "        \n",
    "        ## CREATE ANY NEEDED FOLDERS\n",
    "        # Get the Folder Name only\n",
    "        folder = os.path.dirname(JSON_FILE)\n",
    "        \n",
    "        ## If JSON_FILE included a folder:\n",
    "        if len(folder)>0:\n",
    "            # create the folder\n",
    "            os.makedirs(folder,exist_ok=True)\n",
    "        ## Save empty list to start the json file\n",
    "        with open(JSON_FILE,'w') as f:\n",
    "            json.dump([],f)  "
   ]
  },
  {
   "cell_type": "code",
   "execution_count": 28,
   "id": "041fd0b4-79c9-4a56-9434-cdb925951a24",
   "metadata": {},
   "outputs": [
    {
     "name": "stdout",
     "output_type": "stream",
     "text": [
      "[!] Data/results_in_progress_SF_thai.json already exists. Deleting previous file...\n",
      "[i] Data/results_in_progress_SF_thai.json not found. Saving empty list to new file.\n",
      "- 0 previous results found.\n"
     ]
    },
    {
     "data": {
      "text/plain": [
       "55"
      ]
     },
     "execution_count": 28,
     "metadata": {},
     "output_type": "execute_result"
    }
   ],
   "source": [
    "## Create a new empty json file (exist the previous if it exists)\n",
    "create_json_file(JSON_FILE, delete_if_exists=True)\n",
    "## Load previous results and use len of results for offset\n",
    "with open(JSON_FILE,'r') as f:\n",
    "    previous_results = json.load(f)\n",
    "    \n",
    "## set offset based on previous results\n",
    "n_results = len(previous_results)\n",
    "print(f'- {n_results} previous results found.')\n",
    "# use our yelp_api variable's search_query method to perform our API call\n",
    "results = yelp_api.search_query(location=LOCATION,\n",
    "                                term=TERM,\n",
    "                               offset=n_results)\n",
    "## How many results total?\n",
    "total_results = results['total']\n",
    "## How many did we get the details for?\n",
    "results_per_page = len(results['businesses'])\n",
    "# Use math.ceil to round up for the total number of pages of results.\n",
    "n_pages = math.ceil((results['total']-n_results)/ results_per_page)\n",
    "n_pages"
   ]
  },
  {
   "cell_type": "code",
   "execution_count": 29,
   "id": "68d6dec4-e0e1-45eb-9897-c136e6e6980d",
   "metadata": {},
   "outputs": [
    {
     "data": {
      "application/vnd.jupyter.widget-view+json": {
       "model_id": "2c01d79a007a4aa780fc87d38e4928c9",
       "version_major": 2,
       "version_minor": 0
      },
      "text/plain": [
       "  0%|          | 0/55 [00:00<?, ?it/s]"
      ]
     },
     "metadata": {},
     "output_type": "display_data"
    },
    {
     "name": "stdout",
     "output_type": "stream",
     "text": [
      "Exceeded 1000 api calls. Stopping loop.\n"
     ]
    }
   ],
   "source": [
    "for i in tqdm_notebook( range(1,n_pages+1)):\n",
    "    \n",
    "    ## Read in results in progress file and check the length\n",
    "    with open(JSON_FILE, 'r') as f:\n",
    "        previous_results = json.load(f)\n",
    "    ## save number of results for to use as offset\n",
    "    n_results = len(previous_results)\n",
    "    \n",
    "    if (n_results + results_per_page) > 1000:\n",
    "        print('Exceeded 1000 api calls. Stopping loop.')\n",
    "        break\n",
    "    \n",
    "    ## use n_results as the OFFSET \n",
    "    results = yelp_api.search_query(location=LOCATION,\n",
    "                                    term=TERM, \n",
    "                                    offset=n_results)\n",
    "    \n",
    "    \n",
    "    \n",
    "    ## append new results and save to file\n",
    "    previous_results.extend(results['businesses'])\n",
    "    \n",
    "    # display(previous_results)\n",
    "    with open(JSON_FILE,'w') as f:\n",
    "        json.dump(previous_results,f)\n",
    "    \n",
    "    time.sleep(.2)"
   ]
  },
  {
   "cell_type": "code",
   "execution_count": 30,
   "id": "ae019783-b6cf-4abd-96fd-3f8f6a3556d9",
   "metadata": {},
   "outputs": [
    {
     "data": {
      "text/html": [
       "<div>\n",
       "<style scoped>\n",
       "    .dataframe tbody tr th:only-of-type {\n",
       "        vertical-align: middle;\n",
       "    }\n",
       "\n",
       "    .dataframe tbody tr th {\n",
       "        vertical-align: top;\n",
       "    }\n",
       "\n",
       "    .dataframe thead th {\n",
       "        text-align: right;\n",
       "    }\n",
       "</style>\n",
       "<table border=\"1\" class=\"dataframe\">\n",
       "  <thead>\n",
       "    <tr style=\"text-align: right;\">\n",
       "      <th></th>\n",
       "      <th>id</th>\n",
       "      <th>alias</th>\n",
       "      <th>name</th>\n",
       "      <th>image_url</th>\n",
       "      <th>is_closed</th>\n",
       "      <th>url</th>\n",
       "      <th>review_count</th>\n",
       "      <th>categories</th>\n",
       "      <th>rating</th>\n",
       "      <th>coordinates</th>\n",
       "      <th>transactions</th>\n",
       "      <th>price</th>\n",
       "      <th>location</th>\n",
       "      <th>phone</th>\n",
       "      <th>display_phone</th>\n",
       "      <th>distance</th>\n",
       "    </tr>\n",
       "  </thead>\n",
       "  <tbody>\n",
       "    <tr>\n",
       "      <th>0</th>\n",
       "      <td>8kck3-K4zYKTJbJko0JlXQ</td>\n",
       "      <td>farmhouse-kitchen-thai-cuisine-san-francisco</td>\n",
       "      <td>Farmhouse Kitchen Thai Cuisine</td>\n",
       "      <td>https://s3-media4.fl.yelpcdn.com/bphoto/kUlEaP...</td>\n",
       "      <td>False</td>\n",
       "      <td>https://www.yelp.com/biz/farmhouse-kitchen-tha...</td>\n",
       "      <td>3719</td>\n",
       "      <td>[{'alias': 'thai', 'title': 'Thai'}, {'alias':...</td>\n",
       "      <td>4.0</td>\n",
       "      <td>{'latitude': 37.760192883932795, 'longitude': ...</td>\n",
       "      <td>[restaurant_reservation, pickup, delivery]</td>\n",
       "      <td>$$</td>\n",
       "      <td>{'address1': '710 Florida St', 'address2': '',...</td>\n",
       "      <td>+14158142920</td>\n",
       "      <td>(415) 814-2920</td>\n",
       "      <td>2201.588556</td>\n",
       "    </tr>\n",
       "    <tr>\n",
       "      <th>1</th>\n",
       "      <td>tZmiZw49SNRVzF6h1Jfx9g</td>\n",
       "      <td>ben-thai-cafe-san-francisco</td>\n",
       "      <td>Ben Thai Cafe</td>\n",
       "      <td>https://s3-media1.fl.yelpcdn.com/bphoto/UVXRkn...</td>\n",
       "      <td>False</td>\n",
       "      <td>https://www.yelp.com/biz/ben-thai-cafe-san-fra...</td>\n",
       "      <td>1016</td>\n",
       "      <td>[{'alias': 'thai', 'title': 'Thai'}, {'alias':...</td>\n",
       "      <td>4.5</td>\n",
       "      <td>{'latitude': 37.78924, 'longitude': -122.42065}</td>\n",
       "      <td>[restaurant_reservation, pickup, delivery]</td>\n",
       "      <td>$$</td>\n",
       "      <td>{'address1': '1331 Polk St', 'address2': None,...</td>\n",
       "      <td>+14157712562</td>\n",
       "      <td>(415) 771-2562</td>\n",
       "      <td>3445.440156</td>\n",
       "    </tr>\n",
       "    <tr>\n",
       "      <th>2</th>\n",
       "      <td>8LFfuBSFK9YfHp1r-jsJEw</td>\n",
       "      <td>oraan-thai-eatery-san-francisco</td>\n",
       "      <td>Oraan Thai Eatery</td>\n",
       "      <td>https://s3-media2.fl.yelpcdn.com/bphoto/8buUkX...</td>\n",
       "      <td>False</td>\n",
       "      <td>https://www.yelp.com/biz/oraan-thai-eatery-san...</td>\n",
       "      <td>44</td>\n",
       "      <td>[{'alias': 'thai', 'title': 'Thai'}]</td>\n",
       "      <td>4.5</td>\n",
       "      <td>{'latitude': 37.78141, 'longitude': -122.459837}</td>\n",
       "      <td>[]</td>\n",
       "      <td>NaN</td>\n",
       "      <td>{'address1': '3750 Geary Blvd', 'address2': ''...</td>\n",
       "      <td>+16282197598</td>\n",
       "      <td>(628) 219-7598</td>\n",
       "      <td>3074.144773</td>\n",
       "    </tr>\n",
       "    <tr>\n",
       "      <th>3</th>\n",
       "      <td>AzFqspVE3gUWYaEselXLUA</td>\n",
       "      <td>khob-khun-thai-cuisine-and-breakfast-san-franc...</td>\n",
       "      <td>Khob Khun Thai Cuisine &amp; Breakfast</td>\n",
       "      <td>https://s3-media3.fl.yelpcdn.com/bphoto/vmbbOH...</td>\n",
       "      <td>False</td>\n",
       "      <td>https://www.yelp.com/biz/khob-khun-thai-cuisin...</td>\n",
       "      <td>238</td>\n",
       "      <td>[{'alias': 'breakfast_brunch', 'title': 'Break...</td>\n",
       "      <td>4.5</td>\n",
       "      <td>{'latitude': 37.78107129493808, 'longitude': -...</td>\n",
       "      <td>[pickup, delivery]</td>\n",
       "      <td>$$</td>\n",
       "      <td>{'address1': '3741 Geary Blvd', 'address2': No...</td>\n",
       "      <td>+14153794382</td>\n",
       "      <td>(415) 379-4382</td>\n",
       "      <td>3032.307778</td>\n",
       "    </tr>\n",
       "    <tr>\n",
       "      <th>4</th>\n",
       "      <td>s2R3RUJ09eBFvHVIUS4Shg</td>\n",
       "      <td>kothai-republic-san-francisco</td>\n",
       "      <td>Kothai Republic</td>\n",
       "      <td>https://s3-media3.fl.yelpcdn.com/bphoto/eWlrib...</td>\n",
       "      <td>False</td>\n",
       "      <td>https://www.yelp.com/biz/kothai-republic-san-f...</td>\n",
       "      <td>247</td>\n",
       "      <td>[{'alias': 'korean', 'title': 'Korean'}, {'ali...</td>\n",
       "      <td>4.5</td>\n",
       "      <td>{'latitude': 37.762389, 'longitude': -122.466065}</td>\n",
       "      <td>[pickup, delivery]</td>\n",
       "      <td>NaN</td>\n",
       "      <td>{'address1': '1398 9th Ave', 'address2': None,...</td>\n",
       "      <td>+14157424058</td>\n",
       "      <td>(415) 742-4058</td>\n",
       "      <td>2606.596929</td>\n",
       "    </tr>\n",
       "  </tbody>\n",
       "</table>\n",
       "</div>"
      ],
      "text/plain": [
       "                       id                                              alias  \\\n",
       "0  8kck3-K4zYKTJbJko0JlXQ       farmhouse-kitchen-thai-cuisine-san-francisco   \n",
       "1  tZmiZw49SNRVzF6h1Jfx9g                        ben-thai-cafe-san-francisco   \n",
       "2  8LFfuBSFK9YfHp1r-jsJEw                    oraan-thai-eatery-san-francisco   \n",
       "3  AzFqspVE3gUWYaEselXLUA  khob-khun-thai-cuisine-and-breakfast-san-franc...   \n",
       "4  s2R3RUJ09eBFvHVIUS4Shg                      kothai-republic-san-francisco   \n",
       "\n",
       "                                 name  \\\n",
       "0      Farmhouse Kitchen Thai Cuisine   \n",
       "1                       Ben Thai Cafe   \n",
       "2                   Oraan Thai Eatery   \n",
       "3  Khob Khun Thai Cuisine & Breakfast   \n",
       "4                     Kothai Republic   \n",
       "\n",
       "                                           image_url  is_closed  \\\n",
       "0  https://s3-media4.fl.yelpcdn.com/bphoto/kUlEaP...      False   \n",
       "1  https://s3-media1.fl.yelpcdn.com/bphoto/UVXRkn...      False   \n",
       "2  https://s3-media2.fl.yelpcdn.com/bphoto/8buUkX...      False   \n",
       "3  https://s3-media3.fl.yelpcdn.com/bphoto/vmbbOH...      False   \n",
       "4  https://s3-media3.fl.yelpcdn.com/bphoto/eWlrib...      False   \n",
       "\n",
       "                                                 url  review_count  \\\n",
       "0  https://www.yelp.com/biz/farmhouse-kitchen-tha...          3719   \n",
       "1  https://www.yelp.com/biz/ben-thai-cafe-san-fra...          1016   \n",
       "2  https://www.yelp.com/biz/oraan-thai-eatery-san...            44   \n",
       "3  https://www.yelp.com/biz/khob-khun-thai-cuisin...           238   \n",
       "4  https://www.yelp.com/biz/kothai-republic-san-f...           247   \n",
       "\n",
       "                                          categories  rating  \\\n",
       "0  [{'alias': 'thai', 'title': 'Thai'}, {'alias':...     4.0   \n",
       "1  [{'alias': 'thai', 'title': 'Thai'}, {'alias':...     4.5   \n",
       "2               [{'alias': 'thai', 'title': 'Thai'}]     4.5   \n",
       "3  [{'alias': 'breakfast_brunch', 'title': 'Break...     4.5   \n",
       "4  [{'alias': 'korean', 'title': 'Korean'}, {'ali...     4.5   \n",
       "\n",
       "                                         coordinates  \\\n",
       "0  {'latitude': 37.760192883932795, 'longitude': ...   \n",
       "1    {'latitude': 37.78924, 'longitude': -122.42065}   \n",
       "2   {'latitude': 37.78141, 'longitude': -122.459837}   \n",
       "3  {'latitude': 37.78107129493808, 'longitude': -...   \n",
       "4  {'latitude': 37.762389, 'longitude': -122.466065}   \n",
       "\n",
       "                                 transactions price  \\\n",
       "0  [restaurant_reservation, pickup, delivery]    $$   \n",
       "1  [restaurant_reservation, pickup, delivery]    $$   \n",
       "2                                          []   NaN   \n",
       "3                          [pickup, delivery]    $$   \n",
       "4                          [pickup, delivery]   NaN   \n",
       "\n",
       "                                            location         phone  \\\n",
       "0  {'address1': '710 Florida St', 'address2': '',...  +14158142920   \n",
       "1  {'address1': '1331 Polk St', 'address2': None,...  +14157712562   \n",
       "2  {'address1': '3750 Geary Blvd', 'address2': ''...  +16282197598   \n",
       "3  {'address1': '3741 Geary Blvd', 'address2': No...  +14153794382   \n",
       "4  {'address1': '1398 9th Ave', 'address2': None,...  +14157424058   \n",
       "\n",
       "    display_phone     distance  \n",
       "0  (415) 814-2920  2201.588556  \n",
       "1  (415) 771-2562  3445.440156  \n",
       "2  (628) 219-7598  3074.144773  \n",
       "3  (415) 379-4382  3032.307778  \n",
       "4  (415) 742-4058  2606.596929  "
      ]
     },
     "metadata": {},
     "output_type": "display_data"
    },
    {
     "data": {
      "text/html": [
       "<div>\n",
       "<style scoped>\n",
       "    .dataframe tbody tr th:only-of-type {\n",
       "        vertical-align: middle;\n",
       "    }\n",
       "\n",
       "    .dataframe tbody tr th {\n",
       "        vertical-align: top;\n",
       "    }\n",
       "\n",
       "    .dataframe thead th {\n",
       "        text-align: right;\n",
       "    }\n",
       "</style>\n",
       "<table border=\"1\" class=\"dataframe\">\n",
       "  <thead>\n",
       "    <tr style=\"text-align: right;\">\n",
       "      <th></th>\n",
       "      <th>id</th>\n",
       "      <th>alias</th>\n",
       "      <th>name</th>\n",
       "      <th>image_url</th>\n",
       "      <th>is_closed</th>\n",
       "      <th>url</th>\n",
       "      <th>review_count</th>\n",
       "      <th>categories</th>\n",
       "      <th>rating</th>\n",
       "      <th>coordinates</th>\n",
       "      <th>transactions</th>\n",
       "      <th>price</th>\n",
       "      <th>location</th>\n",
       "      <th>phone</th>\n",
       "      <th>display_phone</th>\n",
       "      <th>distance</th>\n",
       "    </tr>\n",
       "  </thead>\n",
       "  <tbody>\n",
       "    <tr>\n",
       "      <th>995</th>\n",
       "      <td>5VAapc_o_KoQP9nAyh4iUQ</td>\n",
       "      <td>kirala-restaurant-berkeley-2</td>\n",
       "      <td>Kirala Restaurant</td>\n",
       "      <td>https://s3-media3.fl.yelpcdn.com/bphoto/qK3FBg...</td>\n",
       "      <td>False</td>\n",
       "      <td>https://www.yelp.com/biz/kirala-restaurant-ber...</td>\n",
       "      <td>1856</td>\n",
       "      <td>[{'alias': 'sushi', 'title': 'Sushi Bars'}, {'...</td>\n",
       "      <td>4.0</td>\n",
       "      <td>{'latitude': 37.859286, 'longitude': -122.266717}</td>\n",
       "      <td>[pickup, delivery]</td>\n",
       "      <td>$$</td>\n",
       "      <td>{'address1': '2100 Ward St', 'address2': '', '...</td>\n",
       "      <td>+15105493486</td>\n",
       "      <td>(510) 549-3486</td>\n",
       "      <td>18493.578677</td>\n",
       "    </tr>\n",
       "    <tr>\n",
       "      <th>996</th>\n",
       "      <td>qy7fp1aJXKdmWlOhlnlg4Q</td>\n",
       "      <td>fire-wings-oakland-oakland</td>\n",
       "      <td>Fire Wings Oakland</td>\n",
       "      <td>https://s3-media4.fl.yelpcdn.com/bphoto/4Rb5uR...</td>\n",
       "      <td>False</td>\n",
       "      <td>https://www.yelp.com/biz/fire-wings-oakland-oa...</td>\n",
       "      <td>85</td>\n",
       "      <td>[{'alias': 'chicken_wings', 'title': 'Chicken ...</td>\n",
       "      <td>4.0</td>\n",
       "      <td>{'latitude': 37.799706245183614, 'longitude': ...</td>\n",
       "      <td>[pickup, delivery]</td>\n",
       "      <td>$$</td>\n",
       "      <td>{'address1': '203 E 18th St', 'address2': None...</td>\n",
       "      <td>+15108911148</td>\n",
       "      <td>(510) 891-1148</td>\n",
       "      <td>16627.166348</td>\n",
       "    </tr>\n",
       "    <tr>\n",
       "      <th>997</th>\n",
       "      <td>ouAw6oihgt3Ricwcbf1fMA</td>\n",
       "      <td>pho-anh-dao-alameda-alameda</td>\n",
       "      <td>Pho Anh Dao Alameda</td>\n",
       "      <td>https://s3-media2.fl.yelpcdn.com/bphoto/pk5SKY...</td>\n",
       "      <td>False</td>\n",
       "      <td>https://www.yelp.com/biz/pho-anh-dao-alameda-a...</td>\n",
       "      <td>162</td>\n",
       "      <td>[{'alias': 'vietnamese', 'title': 'Vietnamese'}]</td>\n",
       "      <td>3.5</td>\n",
       "      <td>{'latitude': 37.778843, 'longitude': -122.276938}</td>\n",
       "      <td>[delivery]</td>\n",
       "      <td>$$</td>\n",
       "      <td>{'address1': '1919 Webster St', 'address2': ''...</td>\n",
       "      <td>+15102638577</td>\n",
       "      <td>(510) 263-8577</td>\n",
       "      <td>14161.625676</td>\n",
       "    </tr>\n",
       "    <tr>\n",
       "      <th>998</th>\n",
       "      <td>7GuQ9-aCQ7m-A-I-1tRAoQ</td>\n",
       "      <td>vietnam-house-alameda</td>\n",
       "      <td>Vietnam House</td>\n",
       "      <td>https://s3-media2.fl.yelpcdn.com/bphoto/nD6aOP...</td>\n",
       "      <td>False</td>\n",
       "      <td>https://www.yelp.com/biz/vietnam-house-alameda...</td>\n",
       "      <td>184</td>\n",
       "      <td>[{'alias': 'vietnamese', 'title': 'Vietnamese'...</td>\n",
       "      <td>3.5</td>\n",
       "      <td>{'latitude': 37.7661670327951, 'longitude': -1...</td>\n",
       "      <td>[delivery]</td>\n",
       "      <td>$$</td>\n",
       "      <td>{'address1': '1529 Park St', 'address2': '', '...</td>\n",
       "      <td>+15108644022</td>\n",
       "      <td>(510) 864-4022</td>\n",
       "      <td>17159.384216</td>\n",
       "    </tr>\n",
       "    <tr>\n",
       "      <th>999</th>\n",
       "      <td>p5TfqFI1lwcuhbI9DrXUTw</td>\n",
       "      <td>sushi-and-more-alameda</td>\n",
       "      <td>Sushi &amp; More</td>\n",
       "      <td>https://s3-media1.fl.yelpcdn.com/bphoto/nGOfek...</td>\n",
       "      <td>False</td>\n",
       "      <td>https://www.yelp.com/biz/sushi-and-more-alamed...</td>\n",
       "      <td>168</td>\n",
       "      <td>[{'alias': 'sushi', 'title': 'Sushi Bars'}, {'...</td>\n",
       "      <td>4.5</td>\n",
       "      <td>{'latitude': 37.76209, 'longitude': -122.24477}</td>\n",
       "      <td>[pickup, delivery]</td>\n",
       "      <td>$$</td>\n",
       "      <td>{'address1': '1245 Park St', 'address2': None,...</td>\n",
       "      <td>+15102638171</td>\n",
       "      <td>(510) 263-8171</td>\n",
       "      <td>16845.624286</td>\n",
       "    </tr>\n",
       "  </tbody>\n",
       "</table>\n",
       "</div>"
      ],
      "text/plain": [
       "                         id                         alias  \\\n",
       "995  5VAapc_o_KoQP9nAyh4iUQ  kirala-restaurant-berkeley-2   \n",
       "996  qy7fp1aJXKdmWlOhlnlg4Q    fire-wings-oakland-oakland   \n",
       "997  ouAw6oihgt3Ricwcbf1fMA   pho-anh-dao-alameda-alameda   \n",
       "998  7GuQ9-aCQ7m-A-I-1tRAoQ         vietnam-house-alameda   \n",
       "999  p5TfqFI1lwcuhbI9DrXUTw        sushi-and-more-alameda   \n",
       "\n",
       "                    name                                          image_url  \\\n",
       "995    Kirala Restaurant  https://s3-media3.fl.yelpcdn.com/bphoto/qK3FBg...   \n",
       "996   Fire Wings Oakland  https://s3-media4.fl.yelpcdn.com/bphoto/4Rb5uR...   \n",
       "997  Pho Anh Dao Alameda  https://s3-media2.fl.yelpcdn.com/bphoto/pk5SKY...   \n",
       "998        Vietnam House  https://s3-media2.fl.yelpcdn.com/bphoto/nD6aOP...   \n",
       "999         Sushi & More  https://s3-media1.fl.yelpcdn.com/bphoto/nGOfek...   \n",
       "\n",
       "     is_closed                                                url  \\\n",
       "995      False  https://www.yelp.com/biz/kirala-restaurant-ber...   \n",
       "996      False  https://www.yelp.com/biz/fire-wings-oakland-oa...   \n",
       "997      False  https://www.yelp.com/biz/pho-anh-dao-alameda-a...   \n",
       "998      False  https://www.yelp.com/biz/vietnam-house-alameda...   \n",
       "999      False  https://www.yelp.com/biz/sushi-and-more-alamed...   \n",
       "\n",
       "     review_count                                         categories  rating  \\\n",
       "995          1856  [{'alias': 'sushi', 'title': 'Sushi Bars'}, {'...     4.0   \n",
       "996            85  [{'alias': 'chicken_wings', 'title': 'Chicken ...     4.0   \n",
       "997           162   [{'alias': 'vietnamese', 'title': 'Vietnamese'}]     3.5   \n",
       "998           184  [{'alias': 'vietnamese', 'title': 'Vietnamese'...     3.5   \n",
       "999           168  [{'alias': 'sushi', 'title': 'Sushi Bars'}, {'...     4.5   \n",
       "\n",
       "                                           coordinates        transactions  \\\n",
       "995  {'latitude': 37.859286, 'longitude': -122.266717}  [pickup, delivery]   \n",
       "996  {'latitude': 37.799706245183614, 'longitude': ...  [pickup, delivery]   \n",
       "997  {'latitude': 37.778843, 'longitude': -122.276938}          [delivery]   \n",
       "998  {'latitude': 37.7661670327951, 'longitude': -1...          [delivery]   \n",
       "999    {'latitude': 37.76209, 'longitude': -122.24477}  [pickup, delivery]   \n",
       "\n",
       "    price                                           location         phone  \\\n",
       "995    $$  {'address1': '2100 Ward St', 'address2': '', '...  +15105493486   \n",
       "996    $$  {'address1': '203 E 18th St', 'address2': None...  +15108911148   \n",
       "997    $$  {'address1': '1919 Webster St', 'address2': ''...  +15102638577   \n",
       "998    $$  {'address1': '1529 Park St', 'address2': '', '...  +15108644022   \n",
       "999    $$  {'address1': '1245 Park St', 'address2': None,...  +15102638171   \n",
       "\n",
       "      display_phone      distance  \n",
       "995  (510) 549-3486  18493.578677  \n",
       "996  (510) 891-1148  16627.166348  \n",
       "997  (510) 263-8577  14161.625676  \n",
       "998  (510) 864-4022  17159.384216  \n",
       "999  (510) 263-8171  16845.624286  "
      ]
     },
     "metadata": {},
     "output_type": "display_data"
    }
   ],
   "source": [
    "final_df = pd.read_json(JSON_FILE)\n",
    "display(final_df.head(), final_df.tail())"
   ]
  },
  {
   "cell_type": "code",
   "execution_count": 31,
   "id": "27522abd-53ac-4825-8073-c1087cc4a0ac",
   "metadata": {},
   "outputs": [
    {
     "data": {
      "text/plain": [
       "9"
      ]
     },
     "execution_count": 31,
     "metadata": {},
     "output_type": "execute_result"
    }
   ],
   "source": [
    "final_df.duplicated(subset='id').sum()"
   ]
  },
  {
   "cell_type": "code",
   "execution_count": 32,
   "id": "3d87cb40-de12-4ec9-bdef-74ba7921149b",
   "metadata": {},
   "outputs": [
    {
     "data": {
      "text/plain": [
       "0"
      ]
     },
     "execution_count": 32,
     "metadata": {},
     "output_type": "execute_result"
    }
   ],
   "source": [
    "final_df = final_df.drop_duplicates(subset='id')\n",
    "final_df.duplicated(subset='id').sum()"
   ]
  },
  {
   "cell_type": "code",
   "execution_count": 33,
   "id": "2e4a6045-5c2c-411f-a8a0-f921645c0ee8",
   "metadata": {},
   "outputs": [],
   "source": [
    "final_df.to_csv('Data/final_results_SF_thai.csv.gz', compression='gzip',index=False)"
   ]
  }
 ],
 "metadata": {
  "kernelspec": {
   "display_name": "Python (dojo-env)",
   "language": "python",
   "name": "dojo-env"
  },
  "language_info": {
   "codemirror_mode": {
    "name": "ipython",
    "version": 3
   },
   "file_extension": ".py",
   "mimetype": "text/x-python",
   "name": "python",
   "nbconvert_exporter": "python",
   "pygments_lexer": "ipython3",
   "version": "3.10.10"
  },
  "widgets": {
   "application/vnd.jupyter.widget-state+json": {
    "state": {},
    "version_major": 2,
    "version_minor": 0
   }
  }
 },
 "nbformat": 4,
 "nbformat_minor": 5
}
